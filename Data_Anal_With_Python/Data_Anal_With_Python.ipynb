{
 "cells": [
  {
   "cell_type": "markdown",
   "id": "4aaeb94c-2ea3-4ece-9f4a-5e8a80f5f7a6",
   "metadata": {
    "tags": []
   },
   "source": [
    "# Data Analysis with Python\n",
    "\n",
    "The data used here (automobile) can be downloaded at [https://archive.ics.uci.edu/dataset/10/automobile](https://archive.ics.uci.edu/dataset/10/automobile) or better at [https://archive.ics.uci.edu/ml/machine-learning-databases/autos/imports-85.data](https://archive.ics.uci.edu/ml/machine-learning-databases/autos/imports-85.data)\n",
    "\n",
    "|Variable Name     |\tRole    |Type         |\tDescription                                  |\tUnits |\tMissing Values|\n",
    "|:-----------------|:----------|:-------------|:---------------------------------------------|:-------|:--------------|\n",
    "|price\t           |Feature    | Continuous   |continuous from 5118 to 45400                 |        | yes           |\n",
    "|highway-mpg\t   |Feature\t   | Continuous   |continuous from 16 to 54\t\t                 |        |no             |\n",
    "|city-mpg\t       |Feature\t   | Continuous   |continuous from 13 to 49\t                \t |        |no             |\n",
    "|peak-rpm\t       |Feature    |Continuous\t  |continuous from 4150 to 6600                  |        |yes            |\n",
    "|horsepower\t       |Feature\t   |Continuous\t  |continuous from 48 to 288                     |\t\t  |yes            |\n",
    "|compression-ratio |Feature\t   |Continuous\t  |continuous from 7 to 23\t                     |\t      |no             |\n",
    "|stroke\t           |Feature\t   |Continuous\t  |continuous from 2.07 to 4.17             \t |\t      |yes            |\n",
    "|bore\t           |Feature\t   |Continuous\t  |continuous from 2.54 to 3.94\t                 | \t      |yes            |\n",
    "|fuel-system\t   |Feature\t   |Categorical\t  |1bbl, 2bbl, 4bbl, idi, mfi, mpfi, spdi, spfi  |\t      |no             |\n",
    "|engine-size\t   |Feature\t   |Continuous\t  |continuous from 61 to 326                     |\t\t  |no             |\n",
    "|num-of-cylinders  |Feature\t   |Integer\t      |eight, five, four, six, three, twelve, two\t |        |no             |\n",
    "|engine-type   \t   |Feature\t   |Categorical\t  |dohc, dohcv, l, ohc, ohcf, ohcv, rotor\t\t |        |no             |\n",
    "|curb-weight\t   |Feature\t   |Continuous\t  |continuous from 1488 to 4066\t\t             |        |no             |\n",
    "|height\t           |Feature\t   |Continuous\t  |continuous from 47.8 to 59.8\t\t             |        |no             |\n",
    "|width\t           |Feature\t   |Continuous\t  |continuous from 60.3 to 72.3\t\t             |        |no             |\n",
    "|length\t           |Feature\t   |Continuous\t  |continuous from 141.1 to 208.1\t\t         |        |no             |\n",
    "|wheel-base\t       |Feature\t   |Continuous\t  |continuous from 86.6 120.9\t\t             |        |no             |\n",
    "|engine-location   |Feature\t   |Binary\t      |front, rear\t\t                             |        |no             |\n",
    "|drive-wheels\t   |Feature\t   |Categorical\t  |4wd, fwd, rwd\t\t                         |        |no             |\n",
    "|body-style\t       |Feature\t   |Categorical\t  |hardtop, wagon, sedan, hatchback, convertible | \t\t  |no             |\n",
    "\n",
    "\n",
    "## Python Libraries fro Data Science\n",
    "Python libs for DS can be divided into three groups:\n",
    "\n",
    "|Group                   |Examples                                            |\n",
    "|:-----------------------|:---------------------------------------------------|\n",
    "|Scientific computing    |Pandas; Numpy; SciPy                                |\n",
    "| Visualization          |Matplotlib; Seaborn                                 |\n",
    "|Algorithmic             |Scikit-Learn; Statsmodels                           |\n",
    "\n",
    "## Importing and Exporting Data in Python\n",
    "To import the CSV file, we'll use Pandas\n",
    "\n",
    "### Importation"
   ]
  },
  {
   "cell_type": "code",
   "execution_count": 84,
   "id": "0780f397-86c5-4946-901b-d071f4822841",
   "metadata": {},
   "outputs": [],
   "source": [
    "import pandas as pd\n",
    "import numpy as np\n",
    "import seaborn as sns\n",
    "import matplotlib.pyplot as plt\n",
    "import scipy.stats.stats as stats\n",
    "from sklearn.linear_model import LinearRegression, Ridge\n",
    "from sklearn.preprocessing import PolynomialFeatures, StandardScaler\n",
    "from sklearn.pipeline import Pipeline\n",
    "from sklearn.metrics import mean_squared_error \n",
    "from sklearn.model_selection import cross_val_score, cross_val_predict, train_test_split, GridSearchCV"
   ]
  },
  {
   "cell_type": "code",
   "execution_count": 2,
   "id": "851c68a8-532f-4fd4-8917-2bd4eb351968",
   "metadata": {},
   "outputs": [],
   "source": [
    "url = \"https://archive.ics.uci.edu/ml/machine-learning-databases/autos/imports-85.data\"\n",
    "df = pd.read_csv(url, header = None, na_values = \"?\")"
   ]
  },
  {
   "cell_type": "code",
   "execution_count": 3,
   "id": "bdf05d28-1ff4-48eb-b0fa-3bf7e2585ea1",
   "metadata": {},
   "outputs": [
    {
     "data": {
      "text/html": [
       "<div>\n",
       "<style scoped>\n",
       "    .dataframe tbody tr th:only-of-type {\n",
       "        vertical-align: middle;\n",
       "    }\n",
       "\n",
       "    .dataframe tbody tr th {\n",
       "        vertical-align: top;\n",
       "    }\n",
       "\n",
       "    .dataframe thead th {\n",
       "        text-align: right;\n",
       "    }\n",
       "</style>\n",
       "<table border=\"1\" class=\"dataframe\">\n",
       "  <thead>\n",
       "    <tr style=\"text-align: right;\">\n",
       "      <th></th>\n",
       "      <th>0</th>\n",
       "      <th>1</th>\n",
       "      <th>2</th>\n",
       "      <th>3</th>\n",
       "      <th>4</th>\n",
       "      <th>5</th>\n",
       "      <th>6</th>\n",
       "      <th>7</th>\n",
       "      <th>8</th>\n",
       "      <th>9</th>\n",
       "      <th>...</th>\n",
       "      <th>16</th>\n",
       "      <th>17</th>\n",
       "      <th>18</th>\n",
       "      <th>19</th>\n",
       "      <th>20</th>\n",
       "      <th>21</th>\n",
       "      <th>22</th>\n",
       "      <th>23</th>\n",
       "      <th>24</th>\n",
       "      <th>25</th>\n",
       "    </tr>\n",
       "  </thead>\n",
       "  <tbody>\n",
       "    <tr>\n",
       "      <th>0</th>\n",
       "      <td>3</td>\n",
       "      <td>NaN</td>\n",
       "      <td>alfa-romero</td>\n",
       "      <td>gas</td>\n",
       "      <td>std</td>\n",
       "      <td>two</td>\n",
       "      <td>convertible</td>\n",
       "      <td>rwd</td>\n",
       "      <td>front</td>\n",
       "      <td>88.6</td>\n",
       "      <td>...</td>\n",
       "      <td>130</td>\n",
       "      <td>mpfi</td>\n",
       "      <td>3.47</td>\n",
       "      <td>2.68</td>\n",
       "      <td>9.0</td>\n",
       "      <td>111.0</td>\n",
       "      <td>5000.0</td>\n",
       "      <td>21</td>\n",
       "      <td>27</td>\n",
       "      <td>13495.0</td>\n",
       "    </tr>\n",
       "    <tr>\n",
       "      <th>1</th>\n",
       "      <td>3</td>\n",
       "      <td>NaN</td>\n",
       "      <td>alfa-romero</td>\n",
       "      <td>gas</td>\n",
       "      <td>std</td>\n",
       "      <td>two</td>\n",
       "      <td>convertible</td>\n",
       "      <td>rwd</td>\n",
       "      <td>front</td>\n",
       "      <td>88.6</td>\n",
       "      <td>...</td>\n",
       "      <td>130</td>\n",
       "      <td>mpfi</td>\n",
       "      <td>3.47</td>\n",
       "      <td>2.68</td>\n",
       "      <td>9.0</td>\n",
       "      <td>111.0</td>\n",
       "      <td>5000.0</td>\n",
       "      <td>21</td>\n",
       "      <td>27</td>\n",
       "      <td>16500.0</td>\n",
       "    </tr>\n",
       "    <tr>\n",
       "      <th>2</th>\n",
       "      <td>1</td>\n",
       "      <td>NaN</td>\n",
       "      <td>alfa-romero</td>\n",
       "      <td>gas</td>\n",
       "      <td>std</td>\n",
       "      <td>two</td>\n",
       "      <td>hatchback</td>\n",
       "      <td>rwd</td>\n",
       "      <td>front</td>\n",
       "      <td>94.5</td>\n",
       "      <td>...</td>\n",
       "      <td>152</td>\n",
       "      <td>mpfi</td>\n",
       "      <td>2.68</td>\n",
       "      <td>3.47</td>\n",
       "      <td>9.0</td>\n",
       "      <td>154.0</td>\n",
       "      <td>5000.0</td>\n",
       "      <td>19</td>\n",
       "      <td>26</td>\n",
       "      <td>16500.0</td>\n",
       "    </tr>\n",
       "    <tr>\n",
       "      <th>3</th>\n",
       "      <td>2</td>\n",
       "      <td>164.0</td>\n",
       "      <td>audi</td>\n",
       "      <td>gas</td>\n",
       "      <td>std</td>\n",
       "      <td>four</td>\n",
       "      <td>sedan</td>\n",
       "      <td>fwd</td>\n",
       "      <td>front</td>\n",
       "      <td>99.8</td>\n",
       "      <td>...</td>\n",
       "      <td>109</td>\n",
       "      <td>mpfi</td>\n",
       "      <td>3.19</td>\n",
       "      <td>3.40</td>\n",
       "      <td>10.0</td>\n",
       "      <td>102.0</td>\n",
       "      <td>5500.0</td>\n",
       "      <td>24</td>\n",
       "      <td>30</td>\n",
       "      <td>13950.0</td>\n",
       "    </tr>\n",
       "    <tr>\n",
       "      <th>4</th>\n",
       "      <td>2</td>\n",
       "      <td>164.0</td>\n",
       "      <td>audi</td>\n",
       "      <td>gas</td>\n",
       "      <td>std</td>\n",
       "      <td>four</td>\n",
       "      <td>sedan</td>\n",
       "      <td>4wd</td>\n",
       "      <td>front</td>\n",
       "      <td>99.4</td>\n",
       "      <td>...</td>\n",
       "      <td>136</td>\n",
       "      <td>mpfi</td>\n",
       "      <td>3.19</td>\n",
       "      <td>3.40</td>\n",
       "      <td>8.0</td>\n",
       "      <td>115.0</td>\n",
       "      <td>5500.0</td>\n",
       "      <td>18</td>\n",
       "      <td>22</td>\n",
       "      <td>17450.0</td>\n",
       "    </tr>\n",
       "  </tbody>\n",
       "</table>\n",
       "<p>5 rows × 26 columns</p>\n",
       "</div>"
      ],
      "text/plain": [
       "   0      1            2    3    4     5            6    7      8     9   ...  \\\n",
       "0   3    NaN  alfa-romero  gas  std   two  convertible  rwd  front  88.6  ...   \n",
       "1   3    NaN  alfa-romero  gas  std   two  convertible  rwd  front  88.6  ...   \n",
       "2   1    NaN  alfa-romero  gas  std   two    hatchback  rwd  front  94.5  ...   \n",
       "3   2  164.0         audi  gas  std  four        sedan  fwd  front  99.8  ...   \n",
       "4   2  164.0         audi  gas  std  four        sedan  4wd  front  99.4  ...   \n",
       "\n",
       "    16    17    18    19    20     21      22  23  24       25  \n",
       "0  130  mpfi  3.47  2.68   9.0  111.0  5000.0  21  27  13495.0  \n",
       "1  130  mpfi  3.47  2.68   9.0  111.0  5000.0  21  27  16500.0  \n",
       "2  152  mpfi  2.68  3.47   9.0  154.0  5000.0  19  26  16500.0  \n",
       "3  109  mpfi  3.19  3.40  10.0  102.0  5500.0  24  30  13950.0  \n",
       "4  136  mpfi  3.19  3.40   8.0  115.0  5500.0  18  22  17450.0  \n",
       "\n",
       "[5 rows x 26 columns]"
      ]
     },
     "execution_count": 3,
     "metadata": {},
     "output_type": "execute_result"
    }
   ],
   "source": [
    "df.head()"
   ]
  },
  {
   "cell_type": "markdown",
   "id": "4084b3e2-3948-405a-ad48-c3e69bec7a8e",
   "metadata": {},
   "source": [
    "Headers can be added manually as follows"
   ]
  },
  {
   "cell_type": "code",
   "execution_count": 4,
   "id": "1d2e48cc-404e-4f83-8103-f9777f09f3fd",
   "metadata": {},
   "outputs": [
    {
     "data": {
      "text/html": [
       "<div>\n",
       "<style scoped>\n",
       "    .dataframe tbody tr th:only-of-type {\n",
       "        vertical-align: middle;\n",
       "    }\n",
       "\n",
       "    .dataframe tbody tr th {\n",
       "        vertical-align: top;\n",
       "    }\n",
       "\n",
       "    .dataframe thead th {\n",
       "        text-align: right;\n",
       "    }\n",
       "</style>\n",
       "<table border=\"1\" class=\"dataframe\">\n",
       "  <thead>\n",
       "    <tr style=\"text-align: right;\">\n",
       "      <th></th>\n",
       "      <th>symboling</th>\n",
       "      <th>normalized-losses</th>\n",
       "      <th>make</th>\n",
       "      <th>fuel-type</th>\n",
       "      <th>aspiration</th>\n",
       "      <th>num-of-doors</th>\n",
       "      <th>body-style</th>\n",
       "      <th>drive-wheels</th>\n",
       "      <th>engine-location</th>\n",
       "      <th>wheel-base</th>\n",
       "      <th>...</th>\n",
       "      <th>engine-size</th>\n",
       "      <th>fuel-system</th>\n",
       "      <th>bore</th>\n",
       "      <th>stroke</th>\n",
       "      <th>compression-ratio</th>\n",
       "      <th>horsepower</th>\n",
       "      <th>peak-rpm</th>\n",
       "      <th>city-mpg</th>\n",
       "      <th>highway-mpg</th>\n",
       "      <th>price</th>\n",
       "    </tr>\n",
       "  </thead>\n",
       "  <tbody>\n",
       "    <tr>\n",
       "      <th>0</th>\n",
       "      <td>3</td>\n",
       "      <td>NaN</td>\n",
       "      <td>alfa-romero</td>\n",
       "      <td>gas</td>\n",
       "      <td>std</td>\n",
       "      <td>two</td>\n",
       "      <td>convertible</td>\n",
       "      <td>rwd</td>\n",
       "      <td>front</td>\n",
       "      <td>88.6</td>\n",
       "      <td>...</td>\n",
       "      <td>130</td>\n",
       "      <td>mpfi</td>\n",
       "      <td>3.47</td>\n",
       "      <td>2.68</td>\n",
       "      <td>9.0</td>\n",
       "      <td>111.0</td>\n",
       "      <td>5000.0</td>\n",
       "      <td>21</td>\n",
       "      <td>27</td>\n",
       "      <td>13495.0</td>\n",
       "    </tr>\n",
       "    <tr>\n",
       "      <th>1</th>\n",
       "      <td>3</td>\n",
       "      <td>NaN</td>\n",
       "      <td>alfa-romero</td>\n",
       "      <td>gas</td>\n",
       "      <td>std</td>\n",
       "      <td>two</td>\n",
       "      <td>convertible</td>\n",
       "      <td>rwd</td>\n",
       "      <td>front</td>\n",
       "      <td>88.6</td>\n",
       "      <td>...</td>\n",
       "      <td>130</td>\n",
       "      <td>mpfi</td>\n",
       "      <td>3.47</td>\n",
       "      <td>2.68</td>\n",
       "      <td>9.0</td>\n",
       "      <td>111.0</td>\n",
       "      <td>5000.0</td>\n",
       "      <td>21</td>\n",
       "      <td>27</td>\n",
       "      <td>16500.0</td>\n",
       "    </tr>\n",
       "    <tr>\n",
       "      <th>2</th>\n",
       "      <td>1</td>\n",
       "      <td>NaN</td>\n",
       "      <td>alfa-romero</td>\n",
       "      <td>gas</td>\n",
       "      <td>std</td>\n",
       "      <td>two</td>\n",
       "      <td>hatchback</td>\n",
       "      <td>rwd</td>\n",
       "      <td>front</td>\n",
       "      <td>94.5</td>\n",
       "      <td>...</td>\n",
       "      <td>152</td>\n",
       "      <td>mpfi</td>\n",
       "      <td>2.68</td>\n",
       "      <td>3.47</td>\n",
       "      <td>9.0</td>\n",
       "      <td>154.0</td>\n",
       "      <td>5000.0</td>\n",
       "      <td>19</td>\n",
       "      <td>26</td>\n",
       "      <td>16500.0</td>\n",
       "    </tr>\n",
       "    <tr>\n",
       "      <th>3</th>\n",
       "      <td>2</td>\n",
       "      <td>164.0</td>\n",
       "      <td>audi</td>\n",
       "      <td>gas</td>\n",
       "      <td>std</td>\n",
       "      <td>four</td>\n",
       "      <td>sedan</td>\n",
       "      <td>fwd</td>\n",
       "      <td>front</td>\n",
       "      <td>99.8</td>\n",
       "      <td>...</td>\n",
       "      <td>109</td>\n",
       "      <td>mpfi</td>\n",
       "      <td>3.19</td>\n",
       "      <td>3.40</td>\n",
       "      <td>10.0</td>\n",
       "      <td>102.0</td>\n",
       "      <td>5500.0</td>\n",
       "      <td>24</td>\n",
       "      <td>30</td>\n",
       "      <td>13950.0</td>\n",
       "    </tr>\n",
       "    <tr>\n",
       "      <th>4</th>\n",
       "      <td>2</td>\n",
       "      <td>164.0</td>\n",
       "      <td>audi</td>\n",
       "      <td>gas</td>\n",
       "      <td>std</td>\n",
       "      <td>four</td>\n",
       "      <td>sedan</td>\n",
       "      <td>4wd</td>\n",
       "      <td>front</td>\n",
       "      <td>99.4</td>\n",
       "      <td>...</td>\n",
       "      <td>136</td>\n",
       "      <td>mpfi</td>\n",
       "      <td>3.19</td>\n",
       "      <td>3.40</td>\n",
       "      <td>8.0</td>\n",
       "      <td>115.0</td>\n",
       "      <td>5500.0</td>\n",
       "      <td>18</td>\n",
       "      <td>22</td>\n",
       "      <td>17450.0</td>\n",
       "    </tr>\n",
       "  </tbody>\n",
       "</table>\n",
       "<p>5 rows × 26 columns</p>\n",
       "</div>"
      ],
      "text/plain": [
       "   symboling  normalized-losses         make fuel-type aspiration  \\\n",
       "0          3                NaN  alfa-romero       gas        std   \n",
       "1          3                NaN  alfa-romero       gas        std   \n",
       "2          1                NaN  alfa-romero       gas        std   \n",
       "3          2              164.0         audi       gas        std   \n",
       "4          2              164.0         audi       gas        std   \n",
       "\n",
       "  num-of-doors   body-style drive-wheels engine-location  wheel-base  ...  \\\n",
       "0          two  convertible          rwd           front        88.6  ...   \n",
       "1          two  convertible          rwd           front        88.6  ...   \n",
       "2          two    hatchback          rwd           front        94.5  ...   \n",
       "3         four        sedan          fwd           front        99.8  ...   \n",
       "4         four        sedan          4wd           front        99.4  ...   \n",
       "\n",
       "   engine-size  fuel-system  bore  stroke compression-ratio horsepower  \\\n",
       "0          130         mpfi  3.47    2.68               9.0      111.0   \n",
       "1          130         mpfi  3.47    2.68               9.0      111.0   \n",
       "2          152         mpfi  2.68    3.47               9.0      154.0   \n",
       "3          109         mpfi  3.19    3.40              10.0      102.0   \n",
       "4          136         mpfi  3.19    3.40               8.0      115.0   \n",
       "\n",
       "   peak-rpm city-mpg  highway-mpg    price  \n",
       "0    5000.0       21           27  13495.0  \n",
       "1    5000.0       21           27  16500.0  \n",
       "2    5000.0       19           26  16500.0  \n",
       "3    5500.0       24           30  13950.0  \n",
       "4    5500.0       18           22  17450.0  \n",
       "\n",
       "[5 rows x 26 columns]"
      ]
     },
     "execution_count": 4,
     "metadata": {},
     "output_type": "execute_result"
    }
   ],
   "source": [
    "header_names = [\"symboling\", \"normalized-losses\", \"make\", \"fuel-type\", \"aspiration\", \"num-of-doors\", \"body-style\", \"drive-wheels\", \"engine-location\", \"wheel-base\",\n",
    "          \"length\", \"width\", \"height\", \"curb-weight\", \"engine-type\", \"num-of-cylinders\", \"engine-size\", \"fuel-system\", \"bore\", \"stroke\", \"compression-ratio\",\n",
    "          \"horsepower\", \"peak-rpm\", \"city-mpg\", \"highway-mpg\", \"price\"]\n",
    "\n",
    "df.columns = header_names\n",
    "\n",
    "df.head()"
   ]
  },
  {
   "cell_type": "markdown",
   "id": "0fd77cbd-2cdd-4b6c-a8c7-be88dde7fdbd",
   "metadata": {},
   "source": [
    "### Exportation"
   ]
  },
  {
   "cell_type": "code",
   "execution_count": 5,
   "id": "1f05be11-fa05-4038-8bb0-1b60a6f843ef",
   "metadata": {},
   "outputs": [],
   "source": [
    "df.to_csv(\"autos.csv\")"
   ]
  },
  {
   "cell_type": "markdown",
   "id": "ebc06ea3-2f07-4a59-8e16-eebe76a0c94b",
   "metadata": {},
   "source": [
    "### Other file formats\n",
    "\n",
    "To import other file formats, seet the table below:\n",
    "\n",
    "| Data Format  | Read                 | Save             |\n",
    "|:-------------|:---------------------|:-----------------|\n",
    "|CSV           |`pd.read_csv() `      |`df.to_csv()`     |\n",
    "|json          |`pd.read_json() `     |`df.to_json()`    |\n",
    "|Excel         |`pd.read_excel()`     |`df.to_excel()`   |\n",
    "|SQL           |`pd.read_sql()`       |`df.to_sql()`     |\n",
    "\n",
    "## Getting Started Analyzing Data in Python\n",
    "### Data type checking\n",
    "The data type method (`dtypes`) is applied for this purpose.\n",
    "\n",
    "From the checking below, the vairiable *bore* is not supposed to be an *object* type."
   ]
  },
  {
   "cell_type": "code",
   "execution_count": 6,
   "id": "6890a525-c9f1-4d02-bb11-496b97ab91bc",
   "metadata": {},
   "outputs": [
    {
     "data": {
      "text/plain": [
       "symboling              int64\n",
       "normalized-losses    float64\n",
       "make                  object\n",
       "fuel-type             object\n",
       "aspiration            object\n",
       "num-of-doors          object\n",
       "body-style            object\n",
       "drive-wheels          object\n",
       "engine-location       object\n",
       "wheel-base           float64\n",
       "length               float64\n",
       "width                float64\n",
       "height               float64\n",
       "curb-weight            int64\n",
       "engine-type           object\n",
       "num-of-cylinders      object\n",
       "engine-size            int64\n",
       "fuel-system           object\n",
       "bore                 float64\n",
       "stroke               float64\n",
       "compression-ratio    float64\n",
       "horsepower           float64\n",
       "peak-rpm             float64\n",
       "city-mpg               int64\n",
       "highway-mpg            int64\n",
       "price                float64\n",
       "dtype: object"
      ]
     },
     "execution_count": 6,
     "metadata": {},
     "output_type": "execute_result"
    }
   ],
   "source": [
    "df.dtypes"
   ]
  },
  {
   "cell_type": "markdown",
   "id": "7a92ba9d-85d2-423d-b571-4cb6e9b57b75",
   "metadata": {},
   "source": [
    "### Getting the statistical summary\n",
    "To have statistical summaries, the method `describe` can be used."
   ]
  },
  {
   "cell_type": "code",
   "execution_count": 7,
   "id": "44047130-07cc-4b59-8485-46427f547e62",
   "metadata": {},
   "outputs": [
    {
     "data": {
      "text/html": [
       "<div>\n",
       "<style scoped>\n",
       "    .dataframe tbody tr th:only-of-type {\n",
       "        vertical-align: middle;\n",
       "    }\n",
       "\n",
       "    .dataframe tbody tr th {\n",
       "        vertical-align: top;\n",
       "    }\n",
       "\n",
       "    .dataframe thead th {\n",
       "        text-align: right;\n",
       "    }\n",
       "</style>\n",
       "<table border=\"1\" class=\"dataframe\">\n",
       "  <thead>\n",
       "    <tr style=\"text-align: right;\">\n",
       "      <th></th>\n",
       "      <th>symboling</th>\n",
       "      <th>normalized-losses</th>\n",
       "      <th>wheel-base</th>\n",
       "      <th>length</th>\n",
       "      <th>width</th>\n",
       "      <th>height</th>\n",
       "      <th>curb-weight</th>\n",
       "      <th>engine-size</th>\n",
       "      <th>bore</th>\n",
       "      <th>stroke</th>\n",
       "      <th>compression-ratio</th>\n",
       "      <th>horsepower</th>\n",
       "      <th>peak-rpm</th>\n",
       "      <th>city-mpg</th>\n",
       "      <th>highway-mpg</th>\n",
       "      <th>price</th>\n",
       "    </tr>\n",
       "  </thead>\n",
       "  <tbody>\n",
       "    <tr>\n",
       "      <th>count</th>\n",
       "      <td>205.000000</td>\n",
       "      <td>164.000000</td>\n",
       "      <td>205.000000</td>\n",
       "      <td>205.000000</td>\n",
       "      <td>205.000000</td>\n",
       "      <td>205.000000</td>\n",
       "      <td>205.000000</td>\n",
       "      <td>205.000000</td>\n",
       "      <td>201.000000</td>\n",
       "      <td>201.000000</td>\n",
       "      <td>205.000000</td>\n",
       "      <td>203.000000</td>\n",
       "      <td>203.000000</td>\n",
       "      <td>205.000000</td>\n",
       "      <td>205.000000</td>\n",
       "      <td>201.000000</td>\n",
       "    </tr>\n",
       "    <tr>\n",
       "      <th>mean</th>\n",
       "      <td>0.834146</td>\n",
       "      <td>122.000000</td>\n",
       "      <td>98.756585</td>\n",
       "      <td>174.049268</td>\n",
       "      <td>65.907805</td>\n",
       "      <td>53.724878</td>\n",
       "      <td>2555.565854</td>\n",
       "      <td>126.907317</td>\n",
       "      <td>3.329751</td>\n",
       "      <td>3.255423</td>\n",
       "      <td>10.142537</td>\n",
       "      <td>104.256158</td>\n",
       "      <td>5125.369458</td>\n",
       "      <td>25.219512</td>\n",
       "      <td>30.751220</td>\n",
       "      <td>13207.129353</td>\n",
       "    </tr>\n",
       "    <tr>\n",
       "      <th>std</th>\n",
       "      <td>1.245307</td>\n",
       "      <td>35.442168</td>\n",
       "      <td>6.021776</td>\n",
       "      <td>12.337289</td>\n",
       "      <td>2.145204</td>\n",
       "      <td>2.443522</td>\n",
       "      <td>520.680204</td>\n",
       "      <td>41.642693</td>\n",
       "      <td>0.273539</td>\n",
       "      <td>0.316717</td>\n",
       "      <td>3.972040</td>\n",
       "      <td>39.714369</td>\n",
       "      <td>479.334560</td>\n",
       "      <td>6.542142</td>\n",
       "      <td>6.886443</td>\n",
       "      <td>7947.066342</td>\n",
       "    </tr>\n",
       "    <tr>\n",
       "      <th>min</th>\n",
       "      <td>-2.000000</td>\n",
       "      <td>65.000000</td>\n",
       "      <td>86.600000</td>\n",
       "      <td>141.100000</td>\n",
       "      <td>60.300000</td>\n",
       "      <td>47.800000</td>\n",
       "      <td>1488.000000</td>\n",
       "      <td>61.000000</td>\n",
       "      <td>2.540000</td>\n",
       "      <td>2.070000</td>\n",
       "      <td>7.000000</td>\n",
       "      <td>48.000000</td>\n",
       "      <td>4150.000000</td>\n",
       "      <td>13.000000</td>\n",
       "      <td>16.000000</td>\n",
       "      <td>5118.000000</td>\n",
       "    </tr>\n",
       "    <tr>\n",
       "      <th>25%</th>\n",
       "      <td>0.000000</td>\n",
       "      <td>94.000000</td>\n",
       "      <td>94.500000</td>\n",
       "      <td>166.300000</td>\n",
       "      <td>64.100000</td>\n",
       "      <td>52.000000</td>\n",
       "      <td>2145.000000</td>\n",
       "      <td>97.000000</td>\n",
       "      <td>3.150000</td>\n",
       "      <td>3.110000</td>\n",
       "      <td>8.600000</td>\n",
       "      <td>70.000000</td>\n",
       "      <td>4800.000000</td>\n",
       "      <td>19.000000</td>\n",
       "      <td>25.000000</td>\n",
       "      <td>7775.000000</td>\n",
       "    </tr>\n",
       "    <tr>\n",
       "      <th>50%</th>\n",
       "      <td>1.000000</td>\n",
       "      <td>115.000000</td>\n",
       "      <td>97.000000</td>\n",
       "      <td>173.200000</td>\n",
       "      <td>65.500000</td>\n",
       "      <td>54.100000</td>\n",
       "      <td>2414.000000</td>\n",
       "      <td>120.000000</td>\n",
       "      <td>3.310000</td>\n",
       "      <td>3.290000</td>\n",
       "      <td>9.000000</td>\n",
       "      <td>95.000000</td>\n",
       "      <td>5200.000000</td>\n",
       "      <td>24.000000</td>\n",
       "      <td>30.000000</td>\n",
       "      <td>10295.000000</td>\n",
       "    </tr>\n",
       "    <tr>\n",
       "      <th>75%</th>\n",
       "      <td>2.000000</td>\n",
       "      <td>150.000000</td>\n",
       "      <td>102.400000</td>\n",
       "      <td>183.100000</td>\n",
       "      <td>66.900000</td>\n",
       "      <td>55.500000</td>\n",
       "      <td>2935.000000</td>\n",
       "      <td>141.000000</td>\n",
       "      <td>3.590000</td>\n",
       "      <td>3.410000</td>\n",
       "      <td>9.400000</td>\n",
       "      <td>116.000000</td>\n",
       "      <td>5500.000000</td>\n",
       "      <td>30.000000</td>\n",
       "      <td>34.000000</td>\n",
       "      <td>16500.000000</td>\n",
       "    </tr>\n",
       "    <tr>\n",
       "      <th>max</th>\n",
       "      <td>3.000000</td>\n",
       "      <td>256.000000</td>\n",
       "      <td>120.900000</td>\n",
       "      <td>208.100000</td>\n",
       "      <td>72.300000</td>\n",
       "      <td>59.800000</td>\n",
       "      <td>4066.000000</td>\n",
       "      <td>326.000000</td>\n",
       "      <td>3.940000</td>\n",
       "      <td>4.170000</td>\n",
       "      <td>23.000000</td>\n",
       "      <td>288.000000</td>\n",
       "      <td>6600.000000</td>\n",
       "      <td>49.000000</td>\n",
       "      <td>54.000000</td>\n",
       "      <td>45400.000000</td>\n",
       "    </tr>\n",
       "  </tbody>\n",
       "</table>\n",
       "</div>"
      ],
      "text/plain": [
       "        symboling  normalized-losses  wheel-base      length       width  \\\n",
       "count  205.000000         164.000000  205.000000  205.000000  205.000000   \n",
       "mean     0.834146         122.000000   98.756585  174.049268   65.907805   \n",
       "std      1.245307          35.442168    6.021776   12.337289    2.145204   \n",
       "min     -2.000000          65.000000   86.600000  141.100000   60.300000   \n",
       "25%      0.000000          94.000000   94.500000  166.300000   64.100000   \n",
       "50%      1.000000         115.000000   97.000000  173.200000   65.500000   \n",
       "75%      2.000000         150.000000  102.400000  183.100000   66.900000   \n",
       "max      3.000000         256.000000  120.900000  208.100000   72.300000   \n",
       "\n",
       "           height  curb-weight  engine-size        bore      stroke  \\\n",
       "count  205.000000   205.000000   205.000000  201.000000  201.000000   \n",
       "mean    53.724878  2555.565854   126.907317    3.329751    3.255423   \n",
       "std      2.443522   520.680204    41.642693    0.273539    0.316717   \n",
       "min     47.800000  1488.000000    61.000000    2.540000    2.070000   \n",
       "25%     52.000000  2145.000000    97.000000    3.150000    3.110000   \n",
       "50%     54.100000  2414.000000   120.000000    3.310000    3.290000   \n",
       "75%     55.500000  2935.000000   141.000000    3.590000    3.410000   \n",
       "max     59.800000  4066.000000   326.000000    3.940000    4.170000   \n",
       "\n",
       "       compression-ratio  horsepower     peak-rpm    city-mpg  highway-mpg  \\\n",
       "count         205.000000  203.000000   203.000000  205.000000   205.000000   \n",
       "mean           10.142537  104.256158  5125.369458   25.219512    30.751220   \n",
       "std             3.972040   39.714369   479.334560    6.542142     6.886443   \n",
       "min             7.000000   48.000000  4150.000000   13.000000    16.000000   \n",
       "25%             8.600000   70.000000  4800.000000   19.000000    25.000000   \n",
       "50%             9.000000   95.000000  5200.000000   24.000000    30.000000   \n",
       "75%             9.400000  116.000000  5500.000000   30.000000    34.000000   \n",
       "max            23.000000  288.000000  6600.000000   49.000000    54.000000   \n",
       "\n",
       "              price  \n",
       "count    201.000000  \n",
       "mean   13207.129353  \n",
       "std     7947.066342  \n",
       "min     5118.000000  \n",
       "25%     7775.000000  \n",
       "50%    10295.000000  \n",
       "75%    16500.000000  \n",
       "max    45400.000000  "
      ]
     },
     "execution_count": 7,
     "metadata": {},
     "output_type": "execute_result"
    }
   ],
   "source": [
    "df.describe()"
   ]
  },
  {
   "cell_type": "markdown",
   "id": "865e4995-f5f9-4f17-9582-bdaaeba5f936",
   "metadata": {},
   "source": [
    "Adding the argument `include = \"all\"` would also include qualitative variables in from the describe method.\n",
    "\n",
    "NaN in the output means **Not a Number**"
   ]
  },
  {
   "cell_type": "code",
   "execution_count": 8,
   "id": "4daa5955-7f49-4ab9-8963-304046405300",
   "metadata": {},
   "outputs": [
    {
     "data": {
      "text/html": [
       "<div>\n",
       "<style scoped>\n",
       "    .dataframe tbody tr th:only-of-type {\n",
       "        vertical-align: middle;\n",
       "    }\n",
       "\n",
       "    .dataframe tbody tr th {\n",
       "        vertical-align: top;\n",
       "    }\n",
       "\n",
       "    .dataframe thead th {\n",
       "        text-align: right;\n",
       "    }\n",
       "</style>\n",
       "<table border=\"1\" class=\"dataframe\">\n",
       "  <thead>\n",
       "    <tr style=\"text-align: right;\">\n",
       "      <th></th>\n",
       "      <th>symboling</th>\n",
       "      <th>normalized-losses</th>\n",
       "      <th>make</th>\n",
       "      <th>fuel-type</th>\n",
       "      <th>aspiration</th>\n",
       "      <th>num-of-doors</th>\n",
       "      <th>body-style</th>\n",
       "      <th>drive-wheels</th>\n",
       "      <th>engine-location</th>\n",
       "      <th>wheel-base</th>\n",
       "      <th>...</th>\n",
       "      <th>engine-size</th>\n",
       "      <th>fuel-system</th>\n",
       "      <th>bore</th>\n",
       "      <th>stroke</th>\n",
       "      <th>compression-ratio</th>\n",
       "      <th>horsepower</th>\n",
       "      <th>peak-rpm</th>\n",
       "      <th>city-mpg</th>\n",
       "      <th>highway-mpg</th>\n",
       "      <th>price</th>\n",
       "    </tr>\n",
       "  </thead>\n",
       "  <tbody>\n",
       "    <tr>\n",
       "      <th>count</th>\n",
       "      <td>205.000000</td>\n",
       "      <td>164.000000</td>\n",
       "      <td>205</td>\n",
       "      <td>205</td>\n",
       "      <td>205</td>\n",
       "      <td>203</td>\n",
       "      <td>205</td>\n",
       "      <td>205</td>\n",
       "      <td>205</td>\n",
       "      <td>205.000000</td>\n",
       "      <td>...</td>\n",
       "      <td>205.000000</td>\n",
       "      <td>205</td>\n",
       "      <td>201.000000</td>\n",
       "      <td>201.000000</td>\n",
       "      <td>205.000000</td>\n",
       "      <td>203.000000</td>\n",
       "      <td>203.000000</td>\n",
       "      <td>205.000000</td>\n",
       "      <td>205.000000</td>\n",
       "      <td>201.000000</td>\n",
       "    </tr>\n",
       "    <tr>\n",
       "      <th>unique</th>\n",
       "      <td>NaN</td>\n",
       "      <td>NaN</td>\n",
       "      <td>22</td>\n",
       "      <td>2</td>\n",
       "      <td>2</td>\n",
       "      <td>2</td>\n",
       "      <td>5</td>\n",
       "      <td>3</td>\n",
       "      <td>2</td>\n",
       "      <td>NaN</td>\n",
       "      <td>...</td>\n",
       "      <td>NaN</td>\n",
       "      <td>8</td>\n",
       "      <td>NaN</td>\n",
       "      <td>NaN</td>\n",
       "      <td>NaN</td>\n",
       "      <td>NaN</td>\n",
       "      <td>NaN</td>\n",
       "      <td>NaN</td>\n",
       "      <td>NaN</td>\n",
       "      <td>NaN</td>\n",
       "    </tr>\n",
       "    <tr>\n",
       "      <th>top</th>\n",
       "      <td>NaN</td>\n",
       "      <td>NaN</td>\n",
       "      <td>toyota</td>\n",
       "      <td>gas</td>\n",
       "      <td>std</td>\n",
       "      <td>four</td>\n",
       "      <td>sedan</td>\n",
       "      <td>fwd</td>\n",
       "      <td>front</td>\n",
       "      <td>NaN</td>\n",
       "      <td>...</td>\n",
       "      <td>NaN</td>\n",
       "      <td>mpfi</td>\n",
       "      <td>NaN</td>\n",
       "      <td>NaN</td>\n",
       "      <td>NaN</td>\n",
       "      <td>NaN</td>\n",
       "      <td>NaN</td>\n",
       "      <td>NaN</td>\n",
       "      <td>NaN</td>\n",
       "      <td>NaN</td>\n",
       "    </tr>\n",
       "    <tr>\n",
       "      <th>freq</th>\n",
       "      <td>NaN</td>\n",
       "      <td>NaN</td>\n",
       "      <td>32</td>\n",
       "      <td>185</td>\n",
       "      <td>168</td>\n",
       "      <td>114</td>\n",
       "      <td>96</td>\n",
       "      <td>120</td>\n",
       "      <td>202</td>\n",
       "      <td>NaN</td>\n",
       "      <td>...</td>\n",
       "      <td>NaN</td>\n",
       "      <td>94</td>\n",
       "      <td>NaN</td>\n",
       "      <td>NaN</td>\n",
       "      <td>NaN</td>\n",
       "      <td>NaN</td>\n",
       "      <td>NaN</td>\n",
       "      <td>NaN</td>\n",
       "      <td>NaN</td>\n",
       "      <td>NaN</td>\n",
       "    </tr>\n",
       "    <tr>\n",
       "      <th>mean</th>\n",
       "      <td>0.834146</td>\n",
       "      <td>122.000000</td>\n",
       "      <td>NaN</td>\n",
       "      <td>NaN</td>\n",
       "      <td>NaN</td>\n",
       "      <td>NaN</td>\n",
       "      <td>NaN</td>\n",
       "      <td>NaN</td>\n",
       "      <td>NaN</td>\n",
       "      <td>98.756585</td>\n",
       "      <td>...</td>\n",
       "      <td>126.907317</td>\n",
       "      <td>NaN</td>\n",
       "      <td>3.329751</td>\n",
       "      <td>3.255423</td>\n",
       "      <td>10.142537</td>\n",
       "      <td>104.256158</td>\n",
       "      <td>5125.369458</td>\n",
       "      <td>25.219512</td>\n",
       "      <td>30.751220</td>\n",
       "      <td>13207.129353</td>\n",
       "    </tr>\n",
       "    <tr>\n",
       "      <th>std</th>\n",
       "      <td>1.245307</td>\n",
       "      <td>35.442168</td>\n",
       "      <td>NaN</td>\n",
       "      <td>NaN</td>\n",
       "      <td>NaN</td>\n",
       "      <td>NaN</td>\n",
       "      <td>NaN</td>\n",
       "      <td>NaN</td>\n",
       "      <td>NaN</td>\n",
       "      <td>6.021776</td>\n",
       "      <td>...</td>\n",
       "      <td>41.642693</td>\n",
       "      <td>NaN</td>\n",
       "      <td>0.273539</td>\n",
       "      <td>0.316717</td>\n",
       "      <td>3.972040</td>\n",
       "      <td>39.714369</td>\n",
       "      <td>479.334560</td>\n",
       "      <td>6.542142</td>\n",
       "      <td>6.886443</td>\n",
       "      <td>7947.066342</td>\n",
       "    </tr>\n",
       "    <tr>\n",
       "      <th>min</th>\n",
       "      <td>-2.000000</td>\n",
       "      <td>65.000000</td>\n",
       "      <td>NaN</td>\n",
       "      <td>NaN</td>\n",
       "      <td>NaN</td>\n",
       "      <td>NaN</td>\n",
       "      <td>NaN</td>\n",
       "      <td>NaN</td>\n",
       "      <td>NaN</td>\n",
       "      <td>86.600000</td>\n",
       "      <td>...</td>\n",
       "      <td>61.000000</td>\n",
       "      <td>NaN</td>\n",
       "      <td>2.540000</td>\n",
       "      <td>2.070000</td>\n",
       "      <td>7.000000</td>\n",
       "      <td>48.000000</td>\n",
       "      <td>4150.000000</td>\n",
       "      <td>13.000000</td>\n",
       "      <td>16.000000</td>\n",
       "      <td>5118.000000</td>\n",
       "    </tr>\n",
       "    <tr>\n",
       "      <th>25%</th>\n",
       "      <td>0.000000</td>\n",
       "      <td>94.000000</td>\n",
       "      <td>NaN</td>\n",
       "      <td>NaN</td>\n",
       "      <td>NaN</td>\n",
       "      <td>NaN</td>\n",
       "      <td>NaN</td>\n",
       "      <td>NaN</td>\n",
       "      <td>NaN</td>\n",
       "      <td>94.500000</td>\n",
       "      <td>...</td>\n",
       "      <td>97.000000</td>\n",
       "      <td>NaN</td>\n",
       "      <td>3.150000</td>\n",
       "      <td>3.110000</td>\n",
       "      <td>8.600000</td>\n",
       "      <td>70.000000</td>\n",
       "      <td>4800.000000</td>\n",
       "      <td>19.000000</td>\n",
       "      <td>25.000000</td>\n",
       "      <td>7775.000000</td>\n",
       "    </tr>\n",
       "    <tr>\n",
       "      <th>50%</th>\n",
       "      <td>1.000000</td>\n",
       "      <td>115.000000</td>\n",
       "      <td>NaN</td>\n",
       "      <td>NaN</td>\n",
       "      <td>NaN</td>\n",
       "      <td>NaN</td>\n",
       "      <td>NaN</td>\n",
       "      <td>NaN</td>\n",
       "      <td>NaN</td>\n",
       "      <td>97.000000</td>\n",
       "      <td>...</td>\n",
       "      <td>120.000000</td>\n",
       "      <td>NaN</td>\n",
       "      <td>3.310000</td>\n",
       "      <td>3.290000</td>\n",
       "      <td>9.000000</td>\n",
       "      <td>95.000000</td>\n",
       "      <td>5200.000000</td>\n",
       "      <td>24.000000</td>\n",
       "      <td>30.000000</td>\n",
       "      <td>10295.000000</td>\n",
       "    </tr>\n",
       "    <tr>\n",
       "      <th>75%</th>\n",
       "      <td>2.000000</td>\n",
       "      <td>150.000000</td>\n",
       "      <td>NaN</td>\n",
       "      <td>NaN</td>\n",
       "      <td>NaN</td>\n",
       "      <td>NaN</td>\n",
       "      <td>NaN</td>\n",
       "      <td>NaN</td>\n",
       "      <td>NaN</td>\n",
       "      <td>102.400000</td>\n",
       "      <td>...</td>\n",
       "      <td>141.000000</td>\n",
       "      <td>NaN</td>\n",
       "      <td>3.590000</td>\n",
       "      <td>3.410000</td>\n",
       "      <td>9.400000</td>\n",
       "      <td>116.000000</td>\n",
       "      <td>5500.000000</td>\n",
       "      <td>30.000000</td>\n",
       "      <td>34.000000</td>\n",
       "      <td>16500.000000</td>\n",
       "    </tr>\n",
       "    <tr>\n",
       "      <th>max</th>\n",
       "      <td>3.000000</td>\n",
       "      <td>256.000000</td>\n",
       "      <td>NaN</td>\n",
       "      <td>NaN</td>\n",
       "      <td>NaN</td>\n",
       "      <td>NaN</td>\n",
       "      <td>NaN</td>\n",
       "      <td>NaN</td>\n",
       "      <td>NaN</td>\n",
       "      <td>120.900000</td>\n",
       "      <td>...</td>\n",
       "      <td>326.000000</td>\n",
       "      <td>NaN</td>\n",
       "      <td>3.940000</td>\n",
       "      <td>4.170000</td>\n",
       "      <td>23.000000</td>\n",
       "      <td>288.000000</td>\n",
       "      <td>6600.000000</td>\n",
       "      <td>49.000000</td>\n",
       "      <td>54.000000</td>\n",
       "      <td>45400.000000</td>\n",
       "    </tr>\n",
       "  </tbody>\n",
       "</table>\n",
       "<p>11 rows × 26 columns</p>\n",
       "</div>"
      ],
      "text/plain": [
       "         symboling  normalized-losses    make fuel-type aspiration  \\\n",
       "count   205.000000         164.000000     205       205        205   \n",
       "unique         NaN                NaN      22         2          2   \n",
       "top            NaN                NaN  toyota       gas        std   \n",
       "freq           NaN                NaN      32       185        168   \n",
       "mean      0.834146         122.000000     NaN       NaN        NaN   \n",
       "std       1.245307          35.442168     NaN       NaN        NaN   \n",
       "min      -2.000000          65.000000     NaN       NaN        NaN   \n",
       "25%       0.000000          94.000000     NaN       NaN        NaN   \n",
       "50%       1.000000         115.000000     NaN       NaN        NaN   \n",
       "75%       2.000000         150.000000     NaN       NaN        NaN   \n",
       "max       3.000000         256.000000     NaN       NaN        NaN   \n",
       "\n",
       "       num-of-doors body-style drive-wheels engine-location  wheel-base  ...  \\\n",
       "count           203        205          205             205  205.000000  ...   \n",
       "unique            2          5            3               2         NaN  ...   \n",
       "top            four      sedan          fwd           front         NaN  ...   \n",
       "freq            114         96          120             202         NaN  ...   \n",
       "mean            NaN        NaN          NaN             NaN   98.756585  ...   \n",
       "std             NaN        NaN          NaN             NaN    6.021776  ...   \n",
       "min             NaN        NaN          NaN             NaN   86.600000  ...   \n",
       "25%             NaN        NaN          NaN             NaN   94.500000  ...   \n",
       "50%             NaN        NaN          NaN             NaN   97.000000  ...   \n",
       "75%             NaN        NaN          NaN             NaN  102.400000  ...   \n",
       "max             NaN        NaN          NaN             NaN  120.900000  ...   \n",
       "\n",
       "        engine-size  fuel-system        bore      stroke compression-ratio  \\\n",
       "count    205.000000          205  201.000000  201.000000        205.000000   \n",
       "unique          NaN            8         NaN         NaN               NaN   \n",
       "top             NaN         mpfi         NaN         NaN               NaN   \n",
       "freq            NaN           94         NaN         NaN               NaN   \n",
       "mean     126.907317          NaN    3.329751    3.255423         10.142537   \n",
       "std       41.642693          NaN    0.273539    0.316717          3.972040   \n",
       "min       61.000000          NaN    2.540000    2.070000          7.000000   \n",
       "25%       97.000000          NaN    3.150000    3.110000          8.600000   \n",
       "50%      120.000000          NaN    3.310000    3.290000          9.000000   \n",
       "75%      141.000000          NaN    3.590000    3.410000          9.400000   \n",
       "max      326.000000          NaN    3.940000    4.170000         23.000000   \n",
       "\n",
       "        horsepower     peak-rpm    city-mpg  highway-mpg         price  \n",
       "count   203.000000   203.000000  205.000000   205.000000    201.000000  \n",
       "unique         NaN          NaN         NaN          NaN           NaN  \n",
       "top            NaN          NaN         NaN          NaN           NaN  \n",
       "freq           NaN          NaN         NaN          NaN           NaN  \n",
       "mean    104.256158  5125.369458   25.219512    30.751220  13207.129353  \n",
       "std      39.714369   479.334560    6.542142     6.886443   7947.066342  \n",
       "min      48.000000  4150.000000   13.000000    16.000000   5118.000000  \n",
       "25%      70.000000  4800.000000   19.000000    25.000000   7775.000000  \n",
       "50%      95.000000  5200.000000   24.000000    30.000000  10295.000000  \n",
       "75%     116.000000  5500.000000   30.000000    34.000000  16500.000000  \n",
       "max     288.000000  6600.000000   49.000000    54.000000  45400.000000  \n",
       "\n",
       "[11 rows x 26 columns]"
      ]
     },
     "execution_count": 8,
     "metadata": {},
     "output_type": "execute_result"
    }
   ],
   "source": [
    "df.describe(include = \"all\")"
   ]
  },
  {
   "cell_type": "markdown",
   "id": "26884282-2ffe-4c36-abe2-36d49276e3bb",
   "metadata": {},
   "source": [
    "Another way of having summary of a dataframe is the `df.info()` method:"
   ]
  },
  {
   "cell_type": "code",
   "execution_count": 9,
   "id": "6b8680fe-5b38-49c1-922a-4fddeb12e061",
   "metadata": {},
   "outputs": [
    {
     "name": "stdout",
     "output_type": "stream",
     "text": [
      "<class 'pandas.core.frame.DataFrame'>\n",
      "RangeIndex: 205 entries, 0 to 204\n",
      "Data columns (total 26 columns):\n",
      " #   Column             Non-Null Count  Dtype  \n",
      "---  ------             --------------  -----  \n",
      " 0   symboling          205 non-null    int64  \n",
      " 1   normalized-losses  164 non-null    float64\n",
      " 2   make               205 non-null    object \n",
      " 3   fuel-type          205 non-null    object \n",
      " 4   aspiration         205 non-null    object \n",
      " 5   num-of-doors       203 non-null    object \n",
      " 6   body-style         205 non-null    object \n",
      " 7   drive-wheels       205 non-null    object \n",
      " 8   engine-location    205 non-null    object \n",
      " 9   wheel-base         205 non-null    float64\n",
      " 10  length             205 non-null    float64\n",
      " 11  width              205 non-null    float64\n",
      " 12  height             205 non-null    float64\n",
      " 13  curb-weight        205 non-null    int64  \n",
      " 14  engine-type        205 non-null    object \n",
      " 15  num-of-cylinders   205 non-null    object \n",
      " 16  engine-size        205 non-null    int64  \n",
      " 17  fuel-system        205 non-null    object \n",
      " 18  bore               201 non-null    float64\n",
      " 19  stroke             201 non-null    float64\n",
      " 20  compression-ratio  205 non-null    float64\n",
      " 21  horsepower         203 non-null    float64\n",
      " 22  peak-rpm           203 non-null    float64\n",
      " 23  city-mpg           205 non-null    int64  \n",
      " 24  highway-mpg        205 non-null    int64  \n",
      " 25  price              201 non-null    float64\n",
      "dtypes: float64(11), int64(5), object(10)\n",
      "memory usage: 41.8+ KB\n"
     ]
    }
   ],
   "source": [
    "df.info()"
   ]
  },
  {
   "cell_type": "markdown",
   "id": "f481195d-5294-482d-a293-9a044495b4cc",
   "metadata": {},
   "source": [
    "## Accessing Databases with Python \n",
    "\n",
    "A user can access a DBMS from Jupyter Notebook using API (Application Programming Interface) calls\n",
    "\n",
    "The use of Python DB API is illustrated below:"
   ]
  },
  {
   "cell_type": "code",
   "execution_count": 10,
   "id": "869d1e85-2714-4d76-ad91-83751b26c4c9",
   "metadata": {},
   "outputs": [],
   "source": [
    "# from dmodule import connect\n",
    "\n",
    "## Create connection object\n",
    "# connection = connect('databasename', 'username', 'pwd')\n",
    "\n",
    "## Create a cursor object\n",
    "# cursor = connection.cursor()\n",
    "\n",
    "## Run queries\n",
    "# cursor.execute('select * from mytable')\n",
    "# result = cursor.fetchall()\n",
    "\n",
    "## It's time to free ressources\n",
    "# cursor.close()\n",
    "# connection.close()"
   ]
  },
  {
   "cell_type": "markdown",
   "id": "62a93f80-5473-4da6-81c6-c7d6729ca090",
   "metadata": {},
   "source": [
    "## Lesson Summary\n",
    "At this point in the course, we know: \n",
    "\n",
    "* Each line in a dataset is a row, and commas separate the values.\n",
    "* To understand the data, you must analyze the attributes for each column of data.\n",
    "* Python libraries are collections of functions and methods that facilitate various functionalities without writing code from scratch and are categorized into Scientific Computing, Data Visualization, and Machine Learning Algorithms.\n",
    "* Many data science libraries are interconnected; for instance, Scikit-learn is built on top of NumPy, SciPy, and Matplotlib.\n",
    "* The data format and the file path are two key factors for reading data with Pandas.\n",
    "* The `read_CSV` method in Pandas can read files in CSV format into a Pandas DataFrame.\n",
    "* Pandas has unique data types like **object**, **float**, **Int**, and **datetime**.\n",
    "* Use the `dtype` method to check each column’s data type; misclassified data types might need manual correction.\n",
    "* Knowing the correct data types helps apply appropriate Python functions to specific columns.\n",
    "* Using Statistical Summary with `describe()` provides **count**, **mean**, **standard deviation**, **min**, **max**, and **quartile ranges** for numerical columns.\n",
    "* You can also use `include='all'` as an argument to get summaries for **object-type** columns.\n",
    "* The statistical summary helps identify potential issues like outliers needing further attention.\n",
    "* Using the `info()` Method gives an overview of the top and bottom 30 rows of the DataFrame, useful for quick visual inspection.\n",
    "* Some statistical metrics may return *\"NaN\"* indicating missing values, and the program can’t calculate statistics for that specific data type.\n",
    "* Python can connect to databases through specialized code, often written in Jupyter notebooks.\n",
    "* SQL Application Programming Interfaces (APIs) and Python DB APIs (most often used) facilitate the interaction between Python and the DBMS.\n",
    "* SQL APIs connect to DBMS with one or more API calls, build SQL statements as a text string, and use API calls to send SQL statements to the DBMS and retrieve results and statuses.\n",
    "* DB-API, Python's standard for interacting with relational databases, uses **connection** objects to establish and manage database connections and **cursor** objects to run queries and scroll through the results.\n",
    "* **Connection** Object methods include the `cursor()`, `commit()`, `rollback()`, and `close()` commands.\n",
    "* You can import the database module, use the Connect API to open a connection, and then create a cursor object to run queries and fetch results. \n",
    "* Remember to close the database connection to free up resources.\n",
    "\n",
    "# Data Wrangling\n",
    "\n",
    "\n",
    "**Data Pre-Processing** is the process of converting or mapping data from one raw form into another format to make it ready for further analysis. It's sometimes referred to as **Data Wrangling** or **Data Cleaning**.\n",
    "\n",
    "## Basic Data Manipulation in Python\n",
    "To access columns, call their names in quotes in square brackets"
   ]
  },
  {
   "cell_type": "code",
   "execution_count": 11,
   "id": "0285eaa5-ed54-4dbd-bd7c-0ed15483ccbd",
   "metadata": {},
   "outputs": [
    {
     "data": {
      "text/html": [
       "<div>\n",
       "<style scoped>\n",
       "    .dataframe tbody tr th:only-of-type {\n",
       "        vertical-align: middle;\n",
       "    }\n",
       "\n",
       "    .dataframe tbody tr th {\n",
       "        vertical-align: top;\n",
       "    }\n",
       "\n",
       "    .dataframe thead th {\n",
       "        text-align: right;\n",
       "    }\n",
       "</style>\n",
       "<table border=\"1\" class=\"dataframe\">\n",
       "  <thead>\n",
       "    <tr style=\"text-align: right;\">\n",
       "      <th></th>\n",
       "      <th>symboling</th>\n",
       "      <th>normalized-losses</th>\n",
       "      <th>make</th>\n",
       "      <th>fuel-type</th>\n",
       "      <th>aspiration</th>\n",
       "      <th>num-of-doors</th>\n",
       "      <th>body-style</th>\n",
       "      <th>drive-wheels</th>\n",
       "      <th>engine-location</th>\n",
       "      <th>wheel-base</th>\n",
       "      <th>...</th>\n",
       "      <th>fuel-system</th>\n",
       "      <th>bore</th>\n",
       "      <th>stroke</th>\n",
       "      <th>compression-ratio</th>\n",
       "      <th>horsepower</th>\n",
       "      <th>peak-rpm</th>\n",
       "      <th>city-mpg</th>\n",
       "      <th>highway-mpg</th>\n",
       "      <th>price</th>\n",
       "      <th>symboling2</th>\n",
       "    </tr>\n",
       "  </thead>\n",
       "  <tbody>\n",
       "    <tr>\n",
       "      <th>0</th>\n",
       "      <td>3</td>\n",
       "      <td>NaN</td>\n",
       "      <td>alfa-romero</td>\n",
       "      <td>gas</td>\n",
       "      <td>std</td>\n",
       "      <td>two</td>\n",
       "      <td>convertible</td>\n",
       "      <td>rwd</td>\n",
       "      <td>front</td>\n",
       "      <td>88.6</td>\n",
       "      <td>...</td>\n",
       "      <td>mpfi</td>\n",
       "      <td>3.47</td>\n",
       "      <td>2.68</td>\n",
       "      <td>9.0</td>\n",
       "      <td>111.0</td>\n",
       "      <td>5000.0</td>\n",
       "      <td>21</td>\n",
       "      <td>27</td>\n",
       "      <td>13495.0</td>\n",
       "      <td>4</td>\n",
       "    </tr>\n",
       "    <tr>\n",
       "      <th>1</th>\n",
       "      <td>3</td>\n",
       "      <td>NaN</td>\n",
       "      <td>alfa-romero</td>\n",
       "      <td>gas</td>\n",
       "      <td>std</td>\n",
       "      <td>two</td>\n",
       "      <td>convertible</td>\n",
       "      <td>rwd</td>\n",
       "      <td>front</td>\n",
       "      <td>88.6</td>\n",
       "      <td>...</td>\n",
       "      <td>mpfi</td>\n",
       "      <td>3.47</td>\n",
       "      <td>2.68</td>\n",
       "      <td>9.0</td>\n",
       "      <td>111.0</td>\n",
       "      <td>5000.0</td>\n",
       "      <td>21</td>\n",
       "      <td>27</td>\n",
       "      <td>16500.0</td>\n",
       "      <td>4</td>\n",
       "    </tr>\n",
       "    <tr>\n",
       "      <th>2</th>\n",
       "      <td>1</td>\n",
       "      <td>NaN</td>\n",
       "      <td>alfa-romero</td>\n",
       "      <td>gas</td>\n",
       "      <td>std</td>\n",
       "      <td>two</td>\n",
       "      <td>hatchback</td>\n",
       "      <td>rwd</td>\n",
       "      <td>front</td>\n",
       "      <td>94.5</td>\n",
       "      <td>...</td>\n",
       "      <td>mpfi</td>\n",
       "      <td>2.68</td>\n",
       "      <td>3.47</td>\n",
       "      <td>9.0</td>\n",
       "      <td>154.0</td>\n",
       "      <td>5000.0</td>\n",
       "      <td>19</td>\n",
       "      <td>26</td>\n",
       "      <td>16500.0</td>\n",
       "      <td>2</td>\n",
       "    </tr>\n",
       "    <tr>\n",
       "      <th>3</th>\n",
       "      <td>2</td>\n",
       "      <td>164.0</td>\n",
       "      <td>audi</td>\n",
       "      <td>gas</td>\n",
       "      <td>std</td>\n",
       "      <td>four</td>\n",
       "      <td>sedan</td>\n",
       "      <td>fwd</td>\n",
       "      <td>front</td>\n",
       "      <td>99.8</td>\n",
       "      <td>...</td>\n",
       "      <td>mpfi</td>\n",
       "      <td>3.19</td>\n",
       "      <td>3.40</td>\n",
       "      <td>10.0</td>\n",
       "      <td>102.0</td>\n",
       "      <td>5500.0</td>\n",
       "      <td>24</td>\n",
       "      <td>30</td>\n",
       "      <td>13950.0</td>\n",
       "      <td>3</td>\n",
       "    </tr>\n",
       "    <tr>\n",
       "      <th>4</th>\n",
       "      <td>2</td>\n",
       "      <td>164.0</td>\n",
       "      <td>audi</td>\n",
       "      <td>gas</td>\n",
       "      <td>std</td>\n",
       "      <td>four</td>\n",
       "      <td>sedan</td>\n",
       "      <td>4wd</td>\n",
       "      <td>front</td>\n",
       "      <td>99.4</td>\n",
       "      <td>...</td>\n",
       "      <td>mpfi</td>\n",
       "      <td>3.19</td>\n",
       "      <td>3.40</td>\n",
       "      <td>8.0</td>\n",
       "      <td>115.0</td>\n",
       "      <td>5500.0</td>\n",
       "      <td>18</td>\n",
       "      <td>22</td>\n",
       "      <td>17450.0</td>\n",
       "      <td>3</td>\n",
       "    </tr>\n",
       "    <tr>\n",
       "      <th>...</th>\n",
       "      <td>...</td>\n",
       "      <td>...</td>\n",
       "      <td>...</td>\n",
       "      <td>...</td>\n",
       "      <td>...</td>\n",
       "      <td>...</td>\n",
       "      <td>...</td>\n",
       "      <td>...</td>\n",
       "      <td>...</td>\n",
       "      <td>...</td>\n",
       "      <td>...</td>\n",
       "      <td>...</td>\n",
       "      <td>...</td>\n",
       "      <td>...</td>\n",
       "      <td>...</td>\n",
       "      <td>...</td>\n",
       "      <td>...</td>\n",
       "      <td>...</td>\n",
       "      <td>...</td>\n",
       "      <td>...</td>\n",
       "      <td>...</td>\n",
       "    </tr>\n",
       "    <tr>\n",
       "      <th>200</th>\n",
       "      <td>-1</td>\n",
       "      <td>95.0</td>\n",
       "      <td>volvo</td>\n",
       "      <td>gas</td>\n",
       "      <td>std</td>\n",
       "      <td>four</td>\n",
       "      <td>sedan</td>\n",
       "      <td>rwd</td>\n",
       "      <td>front</td>\n",
       "      <td>109.1</td>\n",
       "      <td>...</td>\n",
       "      <td>mpfi</td>\n",
       "      <td>3.78</td>\n",
       "      <td>3.15</td>\n",
       "      <td>9.5</td>\n",
       "      <td>114.0</td>\n",
       "      <td>5400.0</td>\n",
       "      <td>23</td>\n",
       "      <td>28</td>\n",
       "      <td>16845.0</td>\n",
       "      <td>0</td>\n",
       "    </tr>\n",
       "    <tr>\n",
       "      <th>201</th>\n",
       "      <td>-1</td>\n",
       "      <td>95.0</td>\n",
       "      <td>volvo</td>\n",
       "      <td>gas</td>\n",
       "      <td>turbo</td>\n",
       "      <td>four</td>\n",
       "      <td>sedan</td>\n",
       "      <td>rwd</td>\n",
       "      <td>front</td>\n",
       "      <td>109.1</td>\n",
       "      <td>...</td>\n",
       "      <td>mpfi</td>\n",
       "      <td>3.78</td>\n",
       "      <td>3.15</td>\n",
       "      <td>8.7</td>\n",
       "      <td>160.0</td>\n",
       "      <td>5300.0</td>\n",
       "      <td>19</td>\n",
       "      <td>25</td>\n",
       "      <td>19045.0</td>\n",
       "      <td>0</td>\n",
       "    </tr>\n",
       "    <tr>\n",
       "      <th>202</th>\n",
       "      <td>-1</td>\n",
       "      <td>95.0</td>\n",
       "      <td>volvo</td>\n",
       "      <td>gas</td>\n",
       "      <td>std</td>\n",
       "      <td>four</td>\n",
       "      <td>sedan</td>\n",
       "      <td>rwd</td>\n",
       "      <td>front</td>\n",
       "      <td>109.1</td>\n",
       "      <td>...</td>\n",
       "      <td>mpfi</td>\n",
       "      <td>3.58</td>\n",
       "      <td>2.87</td>\n",
       "      <td>8.8</td>\n",
       "      <td>134.0</td>\n",
       "      <td>5500.0</td>\n",
       "      <td>18</td>\n",
       "      <td>23</td>\n",
       "      <td>21485.0</td>\n",
       "      <td>0</td>\n",
       "    </tr>\n",
       "    <tr>\n",
       "      <th>203</th>\n",
       "      <td>-1</td>\n",
       "      <td>95.0</td>\n",
       "      <td>volvo</td>\n",
       "      <td>diesel</td>\n",
       "      <td>turbo</td>\n",
       "      <td>four</td>\n",
       "      <td>sedan</td>\n",
       "      <td>rwd</td>\n",
       "      <td>front</td>\n",
       "      <td>109.1</td>\n",
       "      <td>...</td>\n",
       "      <td>idi</td>\n",
       "      <td>3.01</td>\n",
       "      <td>3.40</td>\n",
       "      <td>23.0</td>\n",
       "      <td>106.0</td>\n",
       "      <td>4800.0</td>\n",
       "      <td>26</td>\n",
       "      <td>27</td>\n",
       "      <td>22470.0</td>\n",
       "      <td>0</td>\n",
       "    </tr>\n",
       "    <tr>\n",
       "      <th>204</th>\n",
       "      <td>-1</td>\n",
       "      <td>95.0</td>\n",
       "      <td>volvo</td>\n",
       "      <td>gas</td>\n",
       "      <td>turbo</td>\n",
       "      <td>four</td>\n",
       "      <td>sedan</td>\n",
       "      <td>rwd</td>\n",
       "      <td>front</td>\n",
       "      <td>109.1</td>\n",
       "      <td>...</td>\n",
       "      <td>mpfi</td>\n",
       "      <td>3.78</td>\n",
       "      <td>3.15</td>\n",
       "      <td>9.5</td>\n",
       "      <td>114.0</td>\n",
       "      <td>5400.0</td>\n",
       "      <td>19</td>\n",
       "      <td>25</td>\n",
       "      <td>22625.0</td>\n",
       "      <td>0</td>\n",
       "    </tr>\n",
       "  </tbody>\n",
       "</table>\n",
       "<p>205 rows × 27 columns</p>\n",
       "</div>"
      ],
      "text/plain": [
       "     symboling  normalized-losses         make fuel-type aspiration  \\\n",
       "0            3                NaN  alfa-romero       gas        std   \n",
       "1            3                NaN  alfa-romero       gas        std   \n",
       "2            1                NaN  alfa-romero       gas        std   \n",
       "3            2              164.0         audi       gas        std   \n",
       "4            2              164.0         audi       gas        std   \n",
       "..         ...                ...          ...       ...        ...   \n",
       "200         -1               95.0        volvo       gas        std   \n",
       "201         -1               95.0        volvo       gas      turbo   \n",
       "202         -1               95.0        volvo       gas        std   \n",
       "203         -1               95.0        volvo    diesel      turbo   \n",
       "204         -1               95.0        volvo       gas      turbo   \n",
       "\n",
       "    num-of-doors   body-style drive-wheels engine-location  wheel-base  ...  \\\n",
       "0            two  convertible          rwd           front        88.6  ...   \n",
       "1            two  convertible          rwd           front        88.6  ...   \n",
       "2            two    hatchback          rwd           front        94.5  ...   \n",
       "3           four        sedan          fwd           front        99.8  ...   \n",
       "4           four        sedan          4wd           front        99.4  ...   \n",
       "..           ...          ...          ...             ...         ...  ...   \n",
       "200         four        sedan          rwd           front       109.1  ...   \n",
       "201         four        sedan          rwd           front       109.1  ...   \n",
       "202         four        sedan          rwd           front       109.1  ...   \n",
       "203         four        sedan          rwd           front       109.1  ...   \n",
       "204         four        sedan          rwd           front       109.1  ...   \n",
       "\n",
       "     fuel-system  bore  stroke  compression-ratio horsepower peak-rpm  \\\n",
       "0           mpfi  3.47    2.68                9.0      111.0   5000.0   \n",
       "1           mpfi  3.47    2.68                9.0      111.0   5000.0   \n",
       "2           mpfi  2.68    3.47                9.0      154.0   5000.0   \n",
       "3           mpfi  3.19    3.40               10.0      102.0   5500.0   \n",
       "4           mpfi  3.19    3.40                8.0      115.0   5500.0   \n",
       "..           ...   ...     ...                ...        ...      ...   \n",
       "200         mpfi  3.78    3.15                9.5      114.0   5400.0   \n",
       "201         mpfi  3.78    3.15                8.7      160.0   5300.0   \n",
       "202         mpfi  3.58    2.87                8.8      134.0   5500.0   \n",
       "203          idi  3.01    3.40               23.0      106.0   4800.0   \n",
       "204         mpfi  3.78    3.15                9.5      114.0   5400.0   \n",
       "\n",
       "     city-mpg highway-mpg    price  symboling2  \n",
       "0          21          27  13495.0           4  \n",
       "1          21          27  16500.0           4  \n",
       "2          19          26  16500.0           2  \n",
       "3          24          30  13950.0           3  \n",
       "4          18          22  17450.0           3  \n",
       "..        ...         ...      ...         ...  \n",
       "200        23          28  16845.0           0  \n",
       "201        19          25  19045.0           0  \n",
       "202        18          23  21485.0           0  \n",
       "203        26          27  22470.0           0  \n",
       "204        19          25  22625.0           0  \n",
       "\n",
       "[205 rows x 27 columns]"
      ]
     },
     "execution_count": 11,
     "metadata": {},
     "output_type": "execute_result"
    }
   ],
   "source": [
    "df['symboling2'] = df['symboling']+1\n",
    "df"
   ]
  },
  {
   "cell_type": "markdown",
   "id": "3809eb96-a6d5-47ab-8829-d0d597fd264b",
   "metadata": {},
   "source": [
    "## Dealing with Missing Values\n",
    "### Dropping NAs\n",
    "In python, the method `df.dropna()` is used, where the argument `axis` is used and receives `0` or `1` to drop the entire row or the entire column containing the NA, respectively. The argument `inplace = True` would make the change directly on the dataset."
   ]
  },
  {
   "cell_type": "code",
   "execution_count": 12,
   "id": "1bdef33c-a27c-4505-8792-cd1355f823ad",
   "metadata": {},
   "outputs": [
    {
     "name": "stdout",
     "output_type": "stream",
     "text": [
      "<class 'pandas.core.frame.DataFrame'>\n",
      "Index: 201 entries, 0 to 204\n",
      "Data columns (total 27 columns):\n",
      " #   Column             Non-Null Count  Dtype  \n",
      "---  ------             --------------  -----  \n",
      " 0   symboling          201 non-null    int64  \n",
      " 1   normalized-losses  164 non-null    float64\n",
      " 2   make               201 non-null    object \n",
      " 3   fuel-type          201 non-null    object \n",
      " 4   aspiration         201 non-null    object \n",
      " 5   num-of-doors       199 non-null    object \n",
      " 6   body-style         201 non-null    object \n",
      " 7   drive-wheels       201 non-null    object \n",
      " 8   engine-location    201 non-null    object \n",
      " 9   wheel-base         201 non-null    float64\n",
      " 10  length             201 non-null    float64\n",
      " 11  width              201 non-null    float64\n",
      " 12  height             201 non-null    float64\n",
      " 13  curb-weight        201 non-null    int64  \n",
      " 14  engine-type        201 non-null    object \n",
      " 15  num-of-cylinders   201 non-null    object \n",
      " 16  engine-size        201 non-null    int64  \n",
      " 17  fuel-system        201 non-null    object \n",
      " 18  bore               197 non-null    float64\n",
      " 19  stroke             197 non-null    float64\n",
      " 20  compression-ratio  201 non-null    float64\n",
      " 21  horsepower         199 non-null    float64\n",
      " 22  peak-rpm           199 non-null    float64\n",
      " 23  city-mpg           201 non-null    int64  \n",
      " 24  highway-mpg        201 non-null    int64  \n",
      " 25  price              201 non-null    float64\n",
      " 26  symboling2         201 non-null    int64  \n",
      "dtypes: float64(11), int64(6), object(10)\n",
      "memory usage: 44.0+ KB\n"
     ]
    }
   ],
   "source": [
    "df2 = df.dropna(subset = [\"price\"], axis = 0)\n",
    "df2.info()"
   ]
  },
  {
   "cell_type": "markdown",
   "id": "5f7b591b-309d-4021-b59c-6aee7ce4ad69",
   "metadata": {},
   "source": [
    "### Replacing NAs\n",
    "\n",
    "For this, the method `df.replace(missing_value, new_value)` is used."
   ]
  },
  {
   "cell_type": "code",
   "execution_count": 13,
   "id": "6484d5ff-2006-4e27-a16d-5ee2030c3221",
   "metadata": {},
   "outputs": [
    {
     "data": {
      "text/plain": [
       "98.75658536585367"
      ]
     },
     "execution_count": 13,
     "metadata": {},
     "output_type": "execute_result"
    }
   ],
   "source": [
    "mean = df[\"wheel-base\"].mean()\n",
    "mean"
   ]
  },
  {
   "cell_type": "code",
   "execution_count": 14,
   "id": "177b1483-1cda-4844-a83f-9c7f99ad0fda",
   "metadata": {},
   "outputs": [
    {
     "data": {
      "text/plain": [
       "0       88.6\n",
       "1       88.6\n",
       "2       94.5\n",
       "3       99.8\n",
       "4       99.4\n",
       "       ...  \n",
       "200    109.1\n",
       "201    109.1\n",
       "202    109.1\n",
       "203    109.1\n",
       "204    109.1\n",
       "Name: wheel-base, Length: 205, dtype: float64"
      ]
     },
     "execution_count": 14,
     "metadata": {},
     "output_type": "execute_result"
    }
   ],
   "source": [
    "df[\"wheel-base\"].replace(np.nan, mean)"
   ]
  },
  {
   "cell_type": "markdown",
   "id": "129014ed-7da7-4c9e-aafb-f552aff7dcda",
   "metadata": {},
   "source": [
    "## Data formatting\n",
    "\n",
    "### Applying a calculation to an entire row\n",
    "\n",
    "For this exercise, let's convert `mgp` to `l/100km`"
   ]
  },
  {
   "cell_type": "code",
   "execution_count": 15,
   "id": "4f58f639-e6eb-4937-9fb1-0923b0892202",
   "metadata": {},
   "outputs": [
    {
     "data": {
      "text/plain": [
       "0      11.190476\n",
       "1      11.190476\n",
       "2      12.368421\n",
       "3       9.791667\n",
       "4      13.055556\n",
       "         ...    \n",
       "200    10.217391\n",
       "201    12.368421\n",
       "202    13.055556\n",
       "203     9.038462\n",
       "204    12.368421\n",
       "Name: l/100km, Length: 205, dtype: float64"
      ]
     },
     "execution_count": 15,
     "metadata": {},
     "output_type": "execute_result"
    }
   ],
   "source": [
    "df[\"l/100km\"] = 235/df[\"city-mpg\"]\n",
    "df[\"l/100km\"]"
   ]
  },
  {
   "cell_type": "code",
   "execution_count": 16,
   "id": "19c86476-446f-48ef-9711-9d713f2e11fa",
   "metadata": {},
   "outputs": [
    {
     "name": "stdout",
     "output_type": "stream",
     "text": [
      "<class 'pandas.core.frame.DataFrame'>\n",
      "RangeIndex: 205 entries, 0 to 204\n",
      "Data columns (total 28 columns):\n",
      " #   Column             Non-Null Count  Dtype  \n",
      "---  ------             --------------  -----  \n",
      " 0   symboling          205 non-null    int64  \n",
      " 1   normalized-losses  164 non-null    float64\n",
      " 2   make               205 non-null    object \n",
      " 3   fuel-type          205 non-null    object \n",
      " 4   aspiration         205 non-null    object \n",
      " 5   num-of-doors       203 non-null    object \n",
      " 6   body-style         205 non-null    object \n",
      " 7   drive-wheels       205 non-null    object \n",
      " 8   engine-location    205 non-null    object \n",
      " 9   wheel-base         205 non-null    float64\n",
      " 10  length             205 non-null    float64\n",
      " 11  width              205 non-null    float64\n",
      " 12  height             205 non-null    float64\n",
      " 13  curb-weight        205 non-null    int64  \n",
      " 14  engine-type        205 non-null    object \n",
      " 15  num-of-cylinders   205 non-null    object \n",
      " 16  engine-size        205 non-null    int64  \n",
      " 17  fuel-system        205 non-null    object \n",
      " 18  bore               201 non-null    float64\n",
      " 19  stroke             201 non-null    float64\n",
      " 20  compression-ratio  205 non-null    float64\n",
      " 21  horsepower         203 non-null    float64\n",
      " 22  peak-rpm           203 non-null    float64\n",
      " 23  city-mpg           205 non-null    int64  \n",
      " 24  highway-mpg        205 non-null    int64  \n",
      " 25  price              201 non-null    float64\n",
      " 26  symboling2         205 non-null    int64  \n",
      " 27  city-l/100km       205 non-null    float64\n",
      "dtypes: float64(12), int64(6), object(10)\n",
      "memory usage: 45.0+ KB\n"
     ]
    }
   ],
   "source": [
    "df.rename(columns = {\"l/100km\": \"city-l/100km\"}, inplace = True)\n",
    "df.info()"
   ]
  },
  {
   "cell_type": "markdown",
   "id": "1b058ddb-c781-41fe-9a84-66a9a7267d38",
   "metadata": {},
   "source": [
    "### Converting Data Types\n",
    "\n",
    "Here, the method `df.astype()` is used"
   ]
  },
  {
   "cell_type": "code",
   "execution_count": 17,
   "id": "76dabe5e-711c-41a3-9dab-77db4b1f0049",
   "metadata": {},
   "outputs": [
    {
     "data": {
      "text/plain": [
       "0      13495.0\n",
       "1      16500.0\n",
       "2      16500.0\n",
       "3      13950.0\n",
       "4      17450.0\n",
       "        ...   \n",
       "200    16845.0\n",
       "201    19045.0\n",
       "202    21485.0\n",
       "203    22470.0\n",
       "204    22625.0\n",
       "Name: price, Length: 205, dtype: float64"
      ]
     },
     "execution_count": 17,
     "metadata": {},
     "output_type": "execute_result"
    }
   ],
   "source": [
    "df[\"price\"] = df[\"price\"].astype(\"float\")\n",
    "df[\"price\"]"
   ]
  },
  {
   "cell_type": "markdown",
   "id": "e5bc369f-72e8-4567-9de9-1da6d9fec993",
   "metadata": {},
   "source": [
    "## Data Normalization\n",
    "\n",
    "Some examples of normalization techniques involve:\n",
    "\n",
    "1. Simple Feature Scaling $$X_{new} = \\frac{X_{old}}{X_{new}}$$ The new value will now range between 0 and 1.\n",
    "\n",
    "2. Min-Max scaling $$X_{new} = \\frac{X_{old} - X_{min}}{X_{max} - X_{min}}$$ The new value will now range between 0 and 1. (Meaning of this value?)\n",
    "\n",
    "3. Z-score or standard score $$X_{new} = \\frac{X_{old} - \\mu}{\\sigma}$$ The new value will typically hover between -3 and 3, but can be lower or higher.\n",
    "\n",
    "### Simple Feature Scaling"
   ]
  },
  {
   "cell_type": "code",
   "execution_count": 18,
   "id": "dda2c755-40d8-492d-8b72-572e999a9f66",
   "metadata": {},
   "outputs": [],
   "source": [
    "df[\"length1\"] = df[\"length\"]/df[\"length\"].max()"
   ]
  },
  {
   "cell_type": "code",
   "execution_count": 19,
   "id": "fcc98002-dde4-4891-8d5e-34f2382acce3",
   "metadata": {},
   "outputs": [
    {
     "data": {
      "text/plain": [
       "0      0.811148\n",
       "1      0.811148\n",
       "2      0.822681\n",
       "3      0.848630\n",
       "4      0.848630\n",
       "         ...   \n",
       "200    0.907256\n",
       "201    0.907256\n",
       "202    0.907256\n",
       "203    0.907256\n",
       "204    0.907256\n",
       "Name: length1, Length: 205, dtype: float64"
      ]
     },
     "execution_count": 19,
     "metadata": {},
     "output_type": "execute_result"
    }
   ],
   "source": [
    "df[\"length1\"]"
   ]
  },
  {
   "cell_type": "markdown",
   "id": "afcb351a-4cdc-48b9-aca6-98d9ca1dc8f7",
   "metadata": {},
   "source": [
    "### Min-Max Scaling"
   ]
  },
  {
   "cell_type": "code",
   "execution_count": 20,
   "id": "897c0e37-5e93-4f4c-b6e2-70e3db20a392",
   "metadata": {},
   "outputs": [
    {
     "data": {
      "text/plain": [
       "0      0.413433\n",
       "1      0.413433\n",
       "2      0.449254\n",
       "3      0.529851\n",
       "4      0.529851\n",
       "         ...   \n",
       "200    0.711940\n",
       "201    0.711940\n",
       "202    0.711940\n",
       "203    0.711940\n",
       "204    0.711940\n",
       "Name: length2, Length: 205, dtype: float64"
      ]
     },
     "execution_count": 20,
     "metadata": {},
     "output_type": "execute_result"
    }
   ],
   "source": [
    "df[\"length2\"] = (df[\"length\"] - df[\"length\"].min()) / (df[\"length\"].max() - df[\"length\"].min())\n",
    "df[\"length2\"]"
   ]
  },
  {
   "cell_type": "markdown",
   "id": "76ee2528-4920-4a2c-ab9b-a7eb101baf91",
   "metadata": {},
   "source": [
    "### Z-Score Scaling"
   ]
  },
  {
   "cell_type": "code",
   "execution_count": 21,
   "id": "9821f4e0-f7b4-49d5-a2e2-892e98f7a904",
   "metadata": {},
   "outputs": [
    {
     "data": {
      "text/plain": [
       "0     -0.425480\n",
       "1     -0.425480\n",
       "2     -0.230948\n",
       "3      0.206750\n",
       "4      0.206750\n",
       "         ...   \n",
       "200    1.195622\n",
       "201    1.195622\n",
       "202    1.195622\n",
       "203    1.195622\n",
       "204    1.195622\n",
       "Name: length3, Length: 205, dtype: float64"
      ]
     },
     "execution_count": 21,
     "metadata": {},
     "output_type": "execute_result"
    }
   ],
   "source": [
    "df[\"length3\"] = (df[\"length\"] - df[\"length\"].mean()) / df[\"length\"].std()\n",
    "df[\"length3\"]"
   ]
  },
  {
   "cell_type": "code",
   "execution_count": 22,
   "id": "528b75e0-302c-4005-beea-b8ef57249d61",
   "metadata": {},
   "outputs": [
    {
     "data": {
      "text/html": [
       "<div>\n",
       "<style scoped>\n",
       "    .dataframe tbody tr th:only-of-type {\n",
       "        vertical-align: middle;\n",
       "    }\n",
       "\n",
       "    .dataframe tbody tr th {\n",
       "        vertical-align: top;\n",
       "    }\n",
       "\n",
       "    .dataframe thead th {\n",
       "        text-align: right;\n",
       "    }\n",
       "</style>\n",
       "<table border=\"1\" class=\"dataframe\">\n",
       "  <thead>\n",
       "    <tr style=\"text-align: right;\">\n",
       "      <th></th>\n",
       "      <th>length</th>\n",
       "      <th>length1</th>\n",
       "      <th>length2</th>\n",
       "      <th>length3</th>\n",
       "    </tr>\n",
       "  </thead>\n",
       "  <tbody>\n",
       "    <tr>\n",
       "      <th>0</th>\n",
       "      <td>168.8</td>\n",
       "      <td>0.811148</td>\n",
       "      <td>0.413433</td>\n",
       "      <td>-0.425480</td>\n",
       "    </tr>\n",
       "    <tr>\n",
       "      <th>1</th>\n",
       "      <td>168.8</td>\n",
       "      <td>0.811148</td>\n",
       "      <td>0.413433</td>\n",
       "      <td>-0.425480</td>\n",
       "    </tr>\n",
       "    <tr>\n",
       "      <th>2</th>\n",
       "      <td>171.2</td>\n",
       "      <td>0.822681</td>\n",
       "      <td>0.449254</td>\n",
       "      <td>-0.230948</td>\n",
       "    </tr>\n",
       "    <tr>\n",
       "      <th>3</th>\n",
       "      <td>176.6</td>\n",
       "      <td>0.848630</td>\n",
       "      <td>0.529851</td>\n",
       "      <td>0.206750</td>\n",
       "    </tr>\n",
       "    <tr>\n",
       "      <th>4</th>\n",
       "      <td>176.6</td>\n",
       "      <td>0.848630</td>\n",
       "      <td>0.529851</td>\n",
       "      <td>0.206750</td>\n",
       "    </tr>\n",
       "  </tbody>\n",
       "</table>\n",
       "</div>"
      ],
      "text/plain": [
       "   length   length1   length2   length3\n",
       "0   168.8  0.811148  0.413433 -0.425480\n",
       "1   168.8  0.811148  0.413433 -0.425480\n",
       "2   171.2  0.822681  0.449254 -0.230948\n",
       "3   176.6  0.848630  0.529851  0.206750\n",
       "4   176.6  0.848630  0.529851  0.206750"
      ]
     },
     "execution_count": 22,
     "metadata": {},
     "output_type": "execute_result"
    }
   ],
   "source": [
    "df[[\"length\", \"length1\", \"length2\", \"length3\"]].head()"
   ]
  },
  {
   "cell_type": "markdown",
   "id": "638dd851-7e43-47de-b619-9e881b0963ac",
   "metadata": {},
   "source": [
    "## Binning\n",
    "**Binning** is the process of grouping values together into \"bins\".\n",
    "\n",
    "To create 3 bins, we need 4 dividers"
   ]
  },
  {
   "cell_type": "code",
   "execution_count": 23,
   "id": "10f8813d-5dd0-4002-84f3-7af4b15e79a7",
   "metadata": {},
   "outputs": [
    {
     "data": {
      "text/plain": [
       "(array([ 5118.        , 18545.33333333, 31972.66666667, 45400.        ]),\n",
       " ['Low', 'Medium', 'High'])"
      ]
     },
     "execution_count": 23,
     "metadata": {},
     "output_type": "execute_result"
    }
   ],
   "source": [
    "bins = np.linspace(df[\"price\"].min(), df[\"price\"].max(), 4)\n",
    "group_names = [\"Low\", \"Medium\", \"High\"]\n",
    "bins, group_names"
   ]
  },
  {
   "cell_type": "code",
   "execution_count": 24,
   "id": "ef6b9358-347b-4071-99ba-9faa2918bee6",
   "metadata": {},
   "outputs": [
    {
     "data": {
      "text/plain": [
       "0         Low\n",
       "1         Low\n",
       "2         Low\n",
       "3         Low\n",
       "4         Low\n",
       "        ...  \n",
       "200       Low\n",
       "201    Medium\n",
       "202    Medium\n",
       "203    Medium\n",
       "204    Medium\n",
       "Name: price-binned, Length: 205, dtype: category\n",
       "Categories (3, object): ['Low' < 'Medium' < 'High']"
      ]
     },
     "execution_count": 24,
     "metadata": {},
     "output_type": "execute_result"
    }
   ],
   "source": [
    "df[\"price-binned\"] = pd.cut(df[\"price\"], bins, labels = group_names, include_lowest = True)\n",
    "df[\"price-binned\"]"
   ]
  },
  {
   "cell_type": "markdown",
   "id": "ad39225d-dff4-43b1-80cc-8569cca21cdd",
   "metadata": {},
   "source": [
    "## Turning Categorical Variables into Quantitative Variables (Dummification)\n",
    "This method is also referred to as 1-hot encoding, and it's achieved using the method `pd.get_dummies()`."
   ]
  },
  {
   "cell_type": "code",
   "execution_count": 25,
   "id": "0eea4918-9170-423d-ab6d-9558be41e3b4",
   "metadata": {},
   "outputs": [
    {
     "data": {
      "text/html": [
       "<div>\n",
       "<style scoped>\n",
       "    .dataframe tbody tr th:only-of-type {\n",
       "        vertical-align: middle;\n",
       "    }\n",
       "\n",
       "    .dataframe tbody tr th {\n",
       "        vertical-align: top;\n",
       "    }\n",
       "\n",
       "    .dataframe thead th {\n",
       "        text-align: right;\n",
       "    }\n",
       "</style>\n",
       "<table border=\"1\" class=\"dataframe\">\n",
       "  <thead>\n",
       "    <tr style=\"text-align: right;\">\n",
       "      <th></th>\n",
       "      <th>diesel</th>\n",
       "      <th>gas</th>\n",
       "    </tr>\n",
       "  </thead>\n",
       "  <tbody>\n",
       "    <tr>\n",
       "      <th>0</th>\n",
       "      <td>False</td>\n",
       "      <td>True</td>\n",
       "    </tr>\n",
       "    <tr>\n",
       "      <th>1</th>\n",
       "      <td>False</td>\n",
       "      <td>True</td>\n",
       "    </tr>\n",
       "    <tr>\n",
       "      <th>2</th>\n",
       "      <td>False</td>\n",
       "      <td>True</td>\n",
       "    </tr>\n",
       "    <tr>\n",
       "      <th>3</th>\n",
       "      <td>False</td>\n",
       "      <td>True</td>\n",
       "    </tr>\n",
       "    <tr>\n",
       "      <th>4</th>\n",
       "      <td>False</td>\n",
       "      <td>True</td>\n",
       "    </tr>\n",
       "    <tr>\n",
       "      <th>...</th>\n",
       "      <td>...</td>\n",
       "      <td>...</td>\n",
       "    </tr>\n",
       "    <tr>\n",
       "      <th>200</th>\n",
       "      <td>False</td>\n",
       "      <td>True</td>\n",
       "    </tr>\n",
       "    <tr>\n",
       "      <th>201</th>\n",
       "      <td>False</td>\n",
       "      <td>True</td>\n",
       "    </tr>\n",
       "    <tr>\n",
       "      <th>202</th>\n",
       "      <td>False</td>\n",
       "      <td>True</td>\n",
       "    </tr>\n",
       "    <tr>\n",
       "      <th>203</th>\n",
       "      <td>True</td>\n",
       "      <td>False</td>\n",
       "    </tr>\n",
       "    <tr>\n",
       "      <th>204</th>\n",
       "      <td>False</td>\n",
       "      <td>True</td>\n",
       "    </tr>\n",
       "  </tbody>\n",
       "</table>\n",
       "<p>205 rows × 2 columns</p>\n",
       "</div>"
      ],
      "text/plain": [
       "     diesel    gas\n",
       "0     False   True\n",
       "1     False   True\n",
       "2     False   True\n",
       "3     False   True\n",
       "4     False   True\n",
       "..      ...    ...\n",
       "200   False   True\n",
       "201   False   True\n",
       "202   False   True\n",
       "203    True  False\n",
       "204   False   True\n",
       "\n",
       "[205 rows x 2 columns]"
      ]
     },
     "execution_count": 25,
     "metadata": {},
     "output_type": "execute_result"
    }
   ],
   "source": [
    "pd.get_dummies(df[\"fuel-type\"])"
   ]
  },
  {
   "cell_type": "markdown",
   "id": "9d1d9c58-ff33-4d42-b1a5-b948eed81715",
   "metadata": {},
   "source": [
    "## Lesson Summary\n",
    "At this point in the course, we know:\n",
    "\n",
    "* Data formatting is critical for making data from various sources consistent and comparable.\n",
    "* Master the techniques in Python to convert units of measurement, like transforming *\"city miles per gallon\"* to *\"city-liters per 100 kilometers\"* for ease of comparison and analysis.\n",
    "* Acquire skills to identify and correct data types in Python, ensuring the data is accurately represented for subsequent statistical analyses.\n",
    "* Data normalization helps make variables comparable and helps eliminate inherent biases in statistical models.\n",
    "* You can apply **Feature Scaling**, **Min-Max**, and **Z-Score** to normalize data and apply each technique in Python using pandas’ methods.\n",
    "* Binning is a method of data pre-processing to improve model accuracy and data visualization.\n",
    "* Run binning techniques in Python using numpy's `linspace` and pandas' `cut` methods, particularly for numerical variables like *\"price*.\n",
    "* Utilize histograms to visualize the distribution of binned data and gain insights into feature distributions.\n",
    "* Statistical models generally require numerical inputs, making it necessary to convert categorical variables like *\"fuel type\"* into numerical formats.\n",
    "* You can implement the one-hot encoding technique in Python using pandas’ `get_dummies` method to transform categorical variables into a format suitable for machine learning models.\n",
    "\n",
    "# Exploratory Data Analysis\n",
    "## Descriptive Statistics\n",
    "* The first way is the method `df.describe()`\n",
    "* Then comes `value_counts()`"
   ]
  },
  {
   "cell_type": "code",
   "execution_count": 26,
   "id": "7cd47cd4-b266-412d-bb77-8c7880c299f9",
   "metadata": {},
   "outputs": [
    {
     "data": {
      "text/html": [
       "<div>\n",
       "<style scoped>\n",
       "    .dataframe tbody tr th:only-of-type {\n",
       "        vertical-align: middle;\n",
       "    }\n",
       "\n",
       "    .dataframe tbody tr th {\n",
       "        vertical-align: top;\n",
       "    }\n",
       "\n",
       "    .dataframe thead th {\n",
       "        text-align: right;\n",
       "    }\n",
       "</style>\n",
       "<table border=\"1\" class=\"dataframe\">\n",
       "  <thead>\n",
       "    <tr style=\"text-align: right;\">\n",
       "      <th></th>\n",
       "      <th>symboling</th>\n",
       "      <th>normalized-losses</th>\n",
       "      <th>wheel-base</th>\n",
       "      <th>length</th>\n",
       "      <th>width</th>\n",
       "      <th>height</th>\n",
       "      <th>curb-weight</th>\n",
       "      <th>engine-size</th>\n",
       "      <th>bore</th>\n",
       "      <th>stroke</th>\n",
       "      <th>...</th>\n",
       "      <th>horsepower</th>\n",
       "      <th>peak-rpm</th>\n",
       "      <th>city-mpg</th>\n",
       "      <th>highway-mpg</th>\n",
       "      <th>price</th>\n",
       "      <th>symboling2</th>\n",
       "      <th>city-l/100km</th>\n",
       "      <th>length1</th>\n",
       "      <th>length2</th>\n",
       "      <th>length3</th>\n",
       "    </tr>\n",
       "  </thead>\n",
       "  <tbody>\n",
       "    <tr>\n",
       "      <th>count</th>\n",
       "      <td>205.000000</td>\n",
       "      <td>164.000000</td>\n",
       "      <td>205.000000</td>\n",
       "      <td>205.000000</td>\n",
       "      <td>205.000000</td>\n",
       "      <td>205.000000</td>\n",
       "      <td>205.000000</td>\n",
       "      <td>205.000000</td>\n",
       "      <td>201.000000</td>\n",
       "      <td>201.000000</td>\n",
       "      <td>...</td>\n",
       "      <td>203.000000</td>\n",
       "      <td>203.000000</td>\n",
       "      <td>205.000000</td>\n",
       "      <td>205.000000</td>\n",
       "      <td>201.000000</td>\n",
       "      <td>205.000000</td>\n",
       "      <td>205.000000</td>\n",
       "      <td>205.000000</td>\n",
       "      <td>205.000000</td>\n",
       "      <td>2.050000e+02</td>\n",
       "    </tr>\n",
       "    <tr>\n",
       "      <th>mean</th>\n",
       "      <td>0.834146</td>\n",
       "      <td>122.000000</td>\n",
       "      <td>98.756585</td>\n",
       "      <td>174.049268</td>\n",
       "      <td>65.907805</td>\n",
       "      <td>53.724878</td>\n",
       "      <td>2555.565854</td>\n",
       "      <td>126.907317</td>\n",
       "      <td>3.329751</td>\n",
       "      <td>3.255423</td>\n",
       "      <td>...</td>\n",
       "      <td>104.256158</td>\n",
       "      <td>5125.369458</td>\n",
       "      <td>25.219512</td>\n",
       "      <td>30.751220</td>\n",
       "      <td>13207.129353</td>\n",
       "      <td>1.834146</td>\n",
       "      <td>9.949525</td>\n",
       "      <td>0.836373</td>\n",
       "      <td>0.491780</td>\n",
       "      <td>3.639365e-15</td>\n",
       "    </tr>\n",
       "    <tr>\n",
       "      <th>std</th>\n",
       "      <td>1.245307</td>\n",
       "      <td>35.442168</td>\n",
       "      <td>6.021776</td>\n",
       "      <td>12.337289</td>\n",
       "      <td>2.145204</td>\n",
       "      <td>2.443522</td>\n",
       "      <td>520.680204</td>\n",
       "      <td>41.642693</td>\n",
       "      <td>0.273539</td>\n",
       "      <td>0.316717</td>\n",
       "      <td>...</td>\n",
       "      <td>39.714369</td>\n",
       "      <td>479.334560</td>\n",
       "      <td>6.542142</td>\n",
       "      <td>6.886443</td>\n",
       "      <td>7947.066342</td>\n",
       "      <td>1.245307</td>\n",
       "      <td>2.573104</td>\n",
       "      <td>0.059285</td>\n",
       "      <td>0.184139</td>\n",
       "      <td>1.000000e+00</td>\n",
       "    </tr>\n",
       "    <tr>\n",
       "      <th>min</th>\n",
       "      <td>-2.000000</td>\n",
       "      <td>65.000000</td>\n",
       "      <td>86.600000</td>\n",
       "      <td>141.100000</td>\n",
       "      <td>60.300000</td>\n",
       "      <td>47.800000</td>\n",
       "      <td>1488.000000</td>\n",
       "      <td>61.000000</td>\n",
       "      <td>2.540000</td>\n",
       "      <td>2.070000</td>\n",
       "      <td>...</td>\n",
       "      <td>48.000000</td>\n",
       "      <td>4150.000000</td>\n",
       "      <td>13.000000</td>\n",
       "      <td>16.000000</td>\n",
       "      <td>5118.000000</td>\n",
       "      <td>-1.000000</td>\n",
       "      <td>4.795918</td>\n",
       "      <td>0.678039</td>\n",
       "      <td>0.000000</td>\n",
       "      <td>-2.670706e+00</td>\n",
       "    </tr>\n",
       "    <tr>\n",
       "      <th>25%</th>\n",
       "      <td>0.000000</td>\n",
       "      <td>94.000000</td>\n",
       "      <td>94.500000</td>\n",
       "      <td>166.300000</td>\n",
       "      <td>64.100000</td>\n",
       "      <td>52.000000</td>\n",
       "      <td>2145.000000</td>\n",
       "      <td>97.000000</td>\n",
       "      <td>3.150000</td>\n",
       "      <td>3.110000</td>\n",
       "      <td>...</td>\n",
       "      <td>70.000000</td>\n",
       "      <td>4800.000000</td>\n",
       "      <td>19.000000</td>\n",
       "      <td>25.000000</td>\n",
       "      <td>7775.000000</td>\n",
       "      <td>1.000000</td>\n",
       "      <td>7.833333</td>\n",
       "      <td>0.799135</td>\n",
       "      <td>0.376119</td>\n",
       "      <td>-6.281176e-01</td>\n",
       "    </tr>\n",
       "    <tr>\n",
       "      <th>50%</th>\n",
       "      <td>1.000000</td>\n",
       "      <td>115.000000</td>\n",
       "      <td>97.000000</td>\n",
       "      <td>173.200000</td>\n",
       "      <td>65.500000</td>\n",
       "      <td>54.100000</td>\n",
       "      <td>2414.000000</td>\n",
       "      <td>120.000000</td>\n",
       "      <td>3.310000</td>\n",
       "      <td>3.290000</td>\n",
       "      <td>...</td>\n",
       "      <td>95.000000</td>\n",
       "      <td>5200.000000</td>\n",
       "      <td>24.000000</td>\n",
       "      <td>30.000000</td>\n",
       "      <td>10295.000000</td>\n",
       "      <td>2.000000</td>\n",
       "      <td>9.791667</td>\n",
       "      <td>0.832292</td>\n",
       "      <td>0.479104</td>\n",
       "      <td>-6.883752e-02</td>\n",
       "    </tr>\n",
       "    <tr>\n",
       "      <th>75%</th>\n",
       "      <td>2.000000</td>\n",
       "      <td>150.000000</td>\n",
       "      <td>102.400000</td>\n",
       "      <td>183.100000</td>\n",
       "      <td>66.900000</td>\n",
       "      <td>55.500000</td>\n",
       "      <td>2935.000000</td>\n",
       "      <td>141.000000</td>\n",
       "      <td>3.590000</td>\n",
       "      <td>3.410000</td>\n",
       "      <td>...</td>\n",
       "      <td>116.000000</td>\n",
       "      <td>5500.000000</td>\n",
       "      <td>30.000000</td>\n",
       "      <td>34.000000</td>\n",
       "      <td>16500.000000</td>\n",
       "      <td>3.000000</td>\n",
       "      <td>12.368421</td>\n",
       "      <td>0.879865</td>\n",
       "      <td>0.626866</td>\n",
       "      <td>7.336078e-01</td>\n",
       "    </tr>\n",
       "    <tr>\n",
       "      <th>max</th>\n",
       "      <td>3.000000</td>\n",
       "      <td>256.000000</td>\n",
       "      <td>120.900000</td>\n",
       "      <td>208.100000</td>\n",
       "      <td>72.300000</td>\n",
       "      <td>59.800000</td>\n",
       "      <td>4066.000000</td>\n",
       "      <td>326.000000</td>\n",
       "      <td>3.940000</td>\n",
       "      <td>4.170000</td>\n",
       "      <td>...</td>\n",
       "      <td>288.000000</td>\n",
       "      <td>6600.000000</td>\n",
       "      <td>49.000000</td>\n",
       "      <td>54.000000</td>\n",
       "      <td>45400.000000</td>\n",
       "      <td>4.000000</td>\n",
       "      <td>18.076923</td>\n",
       "      <td>1.000000</td>\n",
       "      <td>1.000000</td>\n",
       "      <td>2.759985e+00</td>\n",
       "    </tr>\n",
       "  </tbody>\n",
       "</table>\n",
       "<p>8 rows × 21 columns</p>\n",
       "</div>"
      ],
      "text/plain": [
       "        symboling  normalized-losses  wheel-base      length       width  \\\n",
       "count  205.000000         164.000000  205.000000  205.000000  205.000000   \n",
       "mean     0.834146         122.000000   98.756585  174.049268   65.907805   \n",
       "std      1.245307          35.442168    6.021776   12.337289    2.145204   \n",
       "min     -2.000000          65.000000   86.600000  141.100000   60.300000   \n",
       "25%      0.000000          94.000000   94.500000  166.300000   64.100000   \n",
       "50%      1.000000         115.000000   97.000000  173.200000   65.500000   \n",
       "75%      2.000000         150.000000  102.400000  183.100000   66.900000   \n",
       "max      3.000000         256.000000  120.900000  208.100000   72.300000   \n",
       "\n",
       "           height  curb-weight  engine-size        bore      stroke  ...  \\\n",
       "count  205.000000   205.000000   205.000000  201.000000  201.000000  ...   \n",
       "mean    53.724878  2555.565854   126.907317    3.329751    3.255423  ...   \n",
       "std      2.443522   520.680204    41.642693    0.273539    0.316717  ...   \n",
       "min     47.800000  1488.000000    61.000000    2.540000    2.070000  ...   \n",
       "25%     52.000000  2145.000000    97.000000    3.150000    3.110000  ...   \n",
       "50%     54.100000  2414.000000   120.000000    3.310000    3.290000  ...   \n",
       "75%     55.500000  2935.000000   141.000000    3.590000    3.410000  ...   \n",
       "max     59.800000  4066.000000   326.000000    3.940000    4.170000  ...   \n",
       "\n",
       "       horsepower     peak-rpm    city-mpg  highway-mpg         price  \\\n",
       "count  203.000000   203.000000  205.000000   205.000000    201.000000   \n",
       "mean   104.256158  5125.369458   25.219512    30.751220  13207.129353   \n",
       "std     39.714369   479.334560    6.542142     6.886443   7947.066342   \n",
       "min     48.000000  4150.000000   13.000000    16.000000   5118.000000   \n",
       "25%     70.000000  4800.000000   19.000000    25.000000   7775.000000   \n",
       "50%     95.000000  5200.000000   24.000000    30.000000  10295.000000   \n",
       "75%    116.000000  5500.000000   30.000000    34.000000  16500.000000   \n",
       "max    288.000000  6600.000000   49.000000    54.000000  45400.000000   \n",
       "\n",
       "       symboling2  city-l/100km     length1     length2       length3  \n",
       "count  205.000000    205.000000  205.000000  205.000000  2.050000e+02  \n",
       "mean     1.834146      9.949525    0.836373    0.491780  3.639365e-15  \n",
       "std      1.245307      2.573104    0.059285    0.184139  1.000000e+00  \n",
       "min     -1.000000      4.795918    0.678039    0.000000 -2.670706e+00  \n",
       "25%      1.000000      7.833333    0.799135    0.376119 -6.281176e-01  \n",
       "50%      2.000000      9.791667    0.832292    0.479104 -6.883752e-02  \n",
       "75%      3.000000     12.368421    0.879865    0.626866  7.336078e-01  \n",
       "max      4.000000     18.076923    1.000000    1.000000  2.759985e+00  \n",
       "\n",
       "[8 rows x 21 columns]"
      ]
     },
     "execution_count": 26,
     "metadata": {},
     "output_type": "execute_result"
    }
   ],
   "source": [
    "df.describe()"
   ]
  },
  {
   "cell_type": "code",
   "execution_count": 27,
   "id": "32322ffc-0b38-4429-8c85-323ce8aff903",
   "metadata": {},
   "outputs": [
    {
     "data": {
      "text/plain": [
       "fuel-type\n",
       "gas       185\n",
       "diesel     20\n",
       "Name: count, dtype: int64"
      ]
     },
     "execution_count": 27,
     "metadata": {},
     "output_type": "execute_result"
    }
   ],
   "source": [
    "df[\"fuel-type\"].value_counts()"
   ]
  },
  {
   "cell_type": "code",
   "execution_count": 28,
   "id": "7975f213-7552-4302-a0f9-93f925d2811e",
   "metadata": {
    "tags": []
   },
   "outputs": [
    {
     "name": "stdout",
     "output_type": "stream",
     "text": [
      "drive-wheels\n",
      "fwd    120\n",
      "rwd     76\n",
      "4wd      9\n",
      "Name: count, dtype: int64\n"
     ]
    }
   ],
   "source": [
    "drive_wheel_counts = df[\"drive-wheels\"].value_counts()\n",
    "# drive_wheel_counts.rename(columns={\"drive-wheels\":'Value-counts'}, inplace = True)\n",
    "drive_wheel_counts.index.name = \"drive-wheels\"\n",
    "print(drive_wheel_counts)"
   ]
  },
  {
   "cell_type": "markdown",
   "id": "4c5cebee-765e-4c3d-a905-e3f17476a3e0",
   "metadata": {},
   "source": [
    "## Boxplots"
   ]
  },
  {
   "cell_type": "code",
   "execution_count": 29,
   "id": "3ecda186-d00e-40bb-af2d-c20555df6bf8",
   "metadata": {},
   "outputs": [
    {
     "data": {
      "text/plain": [
       "<Axes: xlabel='drive-wheels', ylabel='price'>"
      ]
     },
     "execution_count": 29,
     "metadata": {},
     "output_type": "execute_result"
    },
    {
     "data": {
      "image/png": "[encoded data removed]",
      "text/plain": [
       "<Figure size 432x288 with 1 Axes>"
      ]
     },
     "metadata": {
      "needs_background": "light"
     },
     "output_type": "display_data"
    }
   ],
   "source": [
    "sns.boxplot(x = \"drive-wheels\", y = \"price\", data = df)"
   ]
  },
  {
   "cell_type": "markdown",
   "id": "469bddc3-3979-4ca2-941c-7e0e2ef71482",
   "metadata": {},
   "source": [
    "## Scatter Plors"
   ]
  },
  {
   "cell_type": "code",
   "execution_count": 30,
   "id": "4182bdfe-51ed-47fc-8399-2203478a1acf",
   "metadata": {},
   "outputs": [
    {
     "data": {
      "text/plain": [
       "Text(0, 0.5, 'Price (USD)')"
      ]
     },
     "execution_count": 30,
     "metadata": {},
     "output_type": "execute_result"
    },
    {
     "data": {
      "image/png": "[encoded data removed]",
      "text/plain": [
       "<Figure size 432x288 with 1 Axes>"
      ]
     },
     "metadata": {
      "needs_background": "light"
     },
     "output_type": "display_data"
    }
   ],
   "source": [
    "plt.scatter(x = df[\"engine-size\"], y = df[\"price\"])\n",
    "plt.title(\"Scatterplot of Engine Size vs Proce\")\n",
    "plt.xlabel(\"Engine Size\")\n",
    "plt.ylabel(\"Price (USD)\")"
   ]
  },
  {
   "cell_type": "markdown",
   "id": "6062ef28-9320-40e3-ac62-2db69878eb84",
   "metadata": {},
   "source": [
    "## Group by\n",
    "\n",
    "The `df.groupby()` method is used for this purpose. The argument `as_index = False` will avoid merging cells for the 1st grouping variable."
   ]
  },
  {
   "cell_type": "code",
   "execution_count": 31,
   "id": "5447b759-2259-4a3d-87f0-8ffe71fbdf90",
   "metadata": {},
   "outputs": [
    {
     "data": {
      "text/html": [
       "<div>\n",
       "<style scoped>\n",
       "    .dataframe tbody tr th:only-of-type {\n",
       "        vertical-align: middle;\n",
       "    }\n",
       "\n",
       "    .dataframe tbody tr th {\n",
       "        vertical-align: top;\n",
       "    }\n",
       "\n",
       "    .dataframe thead th {\n",
       "        text-align: right;\n",
       "    }\n",
       "</style>\n",
       "<table border=\"1\" class=\"dataframe\">\n",
       "  <thead>\n",
       "    <tr style=\"text-align: right;\">\n",
       "      <th></th>\n",
       "      <th>drive-wheels</th>\n",
       "      <th>body-style</th>\n",
       "      <th>price</th>\n",
       "    </tr>\n",
       "  </thead>\n",
       "  <tbody>\n",
       "    <tr>\n",
       "      <th>0</th>\n",
       "      <td>4wd</td>\n",
       "      <td>hatchback</td>\n",
       "      <td>7603.000000</td>\n",
       "    </tr>\n",
       "    <tr>\n",
       "      <th>1</th>\n",
       "      <td>4wd</td>\n",
       "      <td>sedan</td>\n",
       "      <td>12647.333333</td>\n",
       "    </tr>\n",
       "    <tr>\n",
       "      <th>2</th>\n",
       "      <td>4wd</td>\n",
       "      <td>wagon</td>\n",
       "      <td>9095.750000</td>\n",
       "    </tr>\n",
       "    <tr>\n",
       "      <th>3</th>\n",
       "      <td>fwd</td>\n",
       "      <td>convertible</td>\n",
       "      <td>11595.000000</td>\n",
       "    </tr>\n",
       "    <tr>\n",
       "      <th>4</th>\n",
       "      <td>fwd</td>\n",
       "      <td>hardtop</td>\n",
       "      <td>8249.000000</td>\n",
       "    </tr>\n",
       "    <tr>\n",
       "      <th>5</th>\n",
       "      <td>fwd</td>\n",
       "      <td>hatchback</td>\n",
       "      <td>8396.387755</td>\n",
       "    </tr>\n",
       "    <tr>\n",
       "      <th>6</th>\n",
       "      <td>fwd</td>\n",
       "      <td>sedan</td>\n",
       "      <td>9811.800000</td>\n",
       "    </tr>\n",
       "    <tr>\n",
       "      <th>7</th>\n",
       "      <td>fwd</td>\n",
       "      <td>wagon</td>\n",
       "      <td>9997.333333</td>\n",
       "    </tr>\n",
       "    <tr>\n",
       "      <th>8</th>\n",
       "      <td>rwd</td>\n",
       "      <td>convertible</td>\n",
       "      <td>23949.600000</td>\n",
       "    </tr>\n",
       "    <tr>\n",
       "      <th>9</th>\n",
       "      <td>rwd</td>\n",
       "      <td>hardtop</td>\n",
       "      <td>24202.714286</td>\n",
       "    </tr>\n",
       "    <tr>\n",
       "      <th>10</th>\n",
       "      <td>rwd</td>\n",
       "      <td>hatchback</td>\n",
       "      <td>14337.777778</td>\n",
       "    </tr>\n",
       "    <tr>\n",
       "      <th>11</th>\n",
       "      <td>rwd</td>\n",
       "      <td>sedan</td>\n",
       "      <td>21711.833333</td>\n",
       "    </tr>\n",
       "    <tr>\n",
       "      <th>12</th>\n",
       "      <td>rwd</td>\n",
       "      <td>wagon</td>\n",
       "      <td>16994.222222</td>\n",
       "    </tr>\n",
       "  </tbody>\n",
       "</table>\n",
       "</div>"
      ],
      "text/plain": [
       "   drive-wheels   body-style         price\n",
       "0           4wd    hatchback   7603.000000\n",
       "1           4wd        sedan  12647.333333\n",
       "2           4wd        wagon   9095.750000\n",
       "3           fwd  convertible  11595.000000\n",
       "4           fwd      hardtop   8249.000000\n",
       "5           fwd    hatchback   8396.387755\n",
       "6           fwd        sedan   9811.800000\n",
       "7           fwd        wagon   9997.333333\n",
       "8           rwd  convertible  23949.600000\n",
       "9           rwd      hardtop  24202.714286\n",
       "10          rwd    hatchback  14337.777778\n",
       "11          rwd        sedan  21711.833333\n",
       "12          rwd        wagon  16994.222222"
      ]
     },
     "execution_count": 31,
     "metadata": {},
     "output_type": "execute_result"
    }
   ],
   "source": [
    "df_test = df[[\"drive-wheels\", \"body-style\", \"price\"]]\n",
    "df_grp = df_test.groupby([\"drive-wheels\", \"body-style\"], as_index = False).mean()\n",
    "df_grp"
   ]
  },
  {
   "cell_type": "code",
   "execution_count": 32,
   "id": "86bace24-b154-4803-be32-f08bb0579890",
   "metadata": {},
   "outputs": [
    {
     "data": {
      "text/plain": [
       "0      7603.000000\n",
       "1     12647.333333\n",
       "2      9095.750000\n",
       "3     11595.000000\n",
       "4      8249.000000\n",
       "5      8396.387755\n",
       "6      9811.800000\n",
       "7      9997.333333\n",
       "8     23949.600000\n",
       "9     24202.714286\n",
       "10    14337.777778\n",
       "11    21711.833333\n",
       "12    16994.222222\n",
       "Name: price, dtype: float64"
      ]
     },
     "execution_count": 32,
     "metadata": {},
     "output_type": "execute_result"
    }
   ],
   "source": [
    "df_grp['price']"
   ]
  },
  {
   "cell_type": "markdown",
   "id": "919a6d68-f859-44d7-93fb-bd082a631aaf",
   "metadata": {},
   "source": [
    "### The `pivot` method"
   ]
  },
  {
   "cell_type": "code",
   "execution_count": 33,
   "id": "fd5193ab-0757-4097-908b-bde821b3732d",
   "metadata": {},
   "outputs": [
    {
     "data": {
      "text/html": [
       "<div>\n",
       "<style scoped>\n",
       "    .dataframe tbody tr th:only-of-type {\n",
       "        vertical-align: middle;\n",
       "    }\n",
       "\n",
       "    .dataframe tbody tr th {\n",
       "        vertical-align: top;\n",
       "    }\n",
       "\n",
       "    .dataframe thead tr th {\n",
       "        text-align: left;\n",
       "    }\n",
       "\n",
       "    .dataframe thead tr:last-of-type th {\n",
       "        text-align: right;\n",
       "    }\n",
       "</style>\n",
       "<table border=\"1\" class=\"dataframe\">\n",
       "  <thead>\n",
       "    <tr>\n",
       "      <th></th>\n",
       "      <th colspan=\"5\" halign=\"left\">price</th>\n",
       "    </tr>\n",
       "    <tr>\n",
       "      <th>body-style</th>\n",
       "      <th>convertible</th>\n",
       "      <th>hardtop</th>\n",
       "      <th>hatchback</th>\n",
       "      <th>sedan</th>\n",
       "      <th>wagon</th>\n",
       "    </tr>\n",
       "    <tr>\n",
       "      <th>drive-wheels</th>\n",
       "      <th></th>\n",
       "      <th></th>\n",
       "      <th></th>\n",
       "      <th></th>\n",
       "      <th></th>\n",
       "    </tr>\n",
       "  </thead>\n",
       "  <tbody>\n",
       "    <tr>\n",
       "      <th>4wd</th>\n",
       "      <td>NaN</td>\n",
       "      <td>NaN</td>\n",
       "      <td>7603.000000</td>\n",
       "      <td>12647.333333</td>\n",
       "      <td>9095.750000</td>\n",
       "    </tr>\n",
       "    <tr>\n",
       "      <th>fwd</th>\n",
       "      <td>11595.0</td>\n",
       "      <td>8249.000000</td>\n",
       "      <td>8396.387755</td>\n",
       "      <td>9811.800000</td>\n",
       "      <td>9997.333333</td>\n",
       "    </tr>\n",
       "    <tr>\n",
       "      <th>rwd</th>\n",
       "      <td>23949.6</td>\n",
       "      <td>24202.714286</td>\n",
       "      <td>14337.777778</td>\n",
       "      <td>21711.833333</td>\n",
       "      <td>16994.222222</td>\n",
       "    </tr>\n",
       "  </tbody>\n",
       "</table>\n",
       "</div>"
      ],
      "text/plain": [
       "                   price                                            \\\n",
       "body-style   convertible       hardtop     hatchback         sedan   \n",
       "drive-wheels                                                         \n",
       "4wd                  NaN           NaN   7603.000000  12647.333333   \n",
       "fwd              11595.0   8249.000000   8396.387755   9811.800000   \n",
       "rwd              23949.6  24202.714286  14337.777778  21711.833333   \n",
       "\n",
       "                            \n",
       "body-style           wagon  \n",
       "drive-wheels                \n",
       "4wd            9095.750000  \n",
       "fwd            9997.333333  \n",
       "rwd           16994.222222  "
      ]
     },
     "execution_count": 33,
     "metadata": {},
     "output_type": "execute_result"
    }
   ],
   "source": [
    "df_pivot = df_grp.pivot(columns = 'body-style', index = 'drive-wheels')\n",
    "df_pivot"
   ]
  },
  {
   "cell_type": "markdown",
   "id": "5eef6b6a-10f6-47e1-9779-e4eafcd445ca",
   "metadata": {},
   "source": [
    "### Heatmaps"
   ]
  },
  {
   "cell_type": "code",
   "execution_count": 34,
   "id": "067d141c-99b1-4a12-b5ec-558b91708238",
   "metadata": {},
   "outputs": [
    {
     "name": "stderr",
     "output_type": "stream",
     "text": [
      "C:\\Users\\visne\\AppData\\Local\\Temp\\ipykernel_15448\\1039962715.py:2: MatplotlibDeprecationWarning: Getting the array from a PolyQuadMesh will return the full array in the future (uncompressed). To get this behavior now set the PolyQuadMesh with a 2D array .set_array(data2d).\n",
      "  plt.colorbar()\n"
     ]
    },
    {
     "data": {
      "image/png": "[encoded data removed]",
      "text/plain": [
       "<Figure size 432x288 with 2 Axes>"
      ]
     },
     "metadata": {
      "needs_background": "light"
     },
     "output_type": "display_data"
    }
   ],
   "source": [
    "plt.pcolor(df_pivot, cmap = 'RdBu')\n",
    "plt.colorbar()\n",
    "plt.show()"
   ]
  },
  {
   "cell_type": "markdown",
   "id": "bc69f83d-e885-4cc0-89f5-d15af6a68275",
   "metadata": {},
   "source": [
    "### Summary of plots\n",
    "\n",
    "| Libraries     | Type of plot                   | Command                                 |\n",
    "|:--------------|:-------------------------------|:----------------------------------------|\n",
    "| Pyplot        | Line Plot                      | `plt.plot(x,y)`                         |\n",
    "|               | Scatter Plot                   | `plt.scatter(x,y)`                      |\n",
    "|               | Histogram                      | `plt.hist(x,bins)`                      |\n",
    "|               | Bar Plot                       | `plt.bar(x,height)`                     |\n",
    "|               | Pseudo Color Plot              | `plt.pcolor(C)`                         |\n",
    "| Seaborn       | Regression Plot                | `sns.regplot(x, y ,data= df)`           |\n",
    "|               | Box Plots                      | `sns.boxplot(x, y, data)`               |\n",
    "|               | Residual Plot M1               | `sns.residplot(data,x, y)`              |\n",
    "|               | Residual Plot M2               | `sns.residplot(x, y)`                   |\n",
    "|               | KDE (Kernel Density Estimate)  | `sns.kdeplot(X)`                        |\n",
    "|               | Distribution plot              | `sns.distplot(X,hist=False)`            |\n",
    "\n",
    "## Correlation\n",
    "To check the correlation between *engine size* and *price*, we can start with scatter plot to check if there is a linear relationship."
   ]
  },
  {
   "cell_type": "code",
   "execution_count": 35,
   "id": "40cab909-b7b1-4fbe-866c-1925d6e0576f",
   "metadata": {},
   "outputs": [
    {
     "data": {
      "text/plain": [
       "Text(0, 0.5, 'Price (USD)')"
      ]
     },
     "execution_count": 35,
     "metadata": {},
     "output_type": "execute_result"
    },
    {
     "data": {
      "image/png": "[encoded data removed]",
      "text/plain": [
       "<Figure size 432x288 with 1 Axes>"
      ]
     },
     "metadata": {
      "needs_background": "light"
     },
     "output_type": "display_data"
    }
   ],
   "source": [
    "sns.regplot(x = df['engine-size'], y = df['price'])\n",
    "plt.xlim(0,)\n",
    "plt.xlabel('Engine Size')\n",
    "plt.ylabel('Price (USD)')"
   ]
  },
  {
   "cell_type": "code",
   "execution_count": 36,
   "id": "c09b9fb0-76cb-4bea-8f33-e60e0fc3818f",
   "metadata": {},
   "outputs": [
    {
     "data": {
      "text/plain": [
       "Text(0, 0.5, 'Price (USD)')"
      ]
     },
     "execution_count": 36,
     "metadata": {},
     "output_type": "execute_result"
    },
    {
     "data": {
      "image/png": "[encoded data removed]",
      "text/plain": [
       "<Figure size 432x288 with 1 Axes>"
      ]
     },
     "metadata": {
      "needs_background": "light"
     },
     "output_type": "display_data"
    }
   ],
   "source": [
    "sns.regplot(x = df['highway-mpg'], y = df['price'])\n",
    "#plt.xlim(0,)\n",
    "plt.ylim(0,)\n",
    "plt.xlabel('Highway MPG')\n",
    "plt.ylabel('Price (USD)')"
   ]
  },
  {
   "cell_type": "code",
   "execution_count": 37,
   "id": "9d5f947e-3b4e-444c-b1db-8b4a79e82a71",
   "metadata": {},
   "outputs": [
    {
     "data": {
      "text/plain": [
       "Text(0, 0.5, 'Price (USD)')"
      ]
     },
     "execution_count": 37,
     "metadata": {},
     "output_type": "execute_result"
    },
    {
     "data": {
      "image/png": "[encoded data removed]",
      "text/plain": [
       "<Figure size 432x288 with 1 Axes>"
      ]
     },
     "metadata": {
      "needs_background": "light"
     },
     "output_type": "display_data"
    }
   ],
   "source": [
    "sns.regplot(x = df['peak-rpm'], y = df['price'])\n",
    "#plt.xlim(0,)\n",
    "plt.ylim(0,)\n",
    "plt.xlabel('Peak RPM')\n",
    "plt.ylabel('Price (USD)')"
   ]
  },
  {
   "cell_type": "markdown",
   "id": "ff70be9e-c61e-4c1e-9101-1ddfa5f949d6",
   "metadata": {},
   "source": [
    "## Correlation Statistics\n",
    "Let's discuss the Pearson correlations coefficient and associated p-value."
   ]
  },
  {
   "cell_type": "code",
   "execution_count": 38,
   "id": "b31cecad-6af9-4ccf-9dff-e0920c8df967",
   "metadata": {},
   "outputs": [
    {
     "data": {
      "text/plain": [
       "(0.8105330821322061, 1.189127827694731e-47)"
      ]
     },
     "execution_count": 38,
     "metadata": {},
     "output_type": "execute_result"
    }
   ],
   "source": [
    "pear = df[['horsepower','price']].dropna(axis = 0)\n",
    "# pear.info()\n",
    "R, p_value = stats.pearsonr(pear['horsepower'], pear['price'])\n",
    "R, p_value"
   ]
  },
  {
   "cell_type": "markdown",
   "id": "f026e816-546b-47aa-849d-529b41609987",
   "metadata": {
    "tags": []
   },
   "source": [
    "## Lesson Summary\n",
    "At this point in the course, we know: \n",
    "* Tools like the `describe` function in pandas can quickly calculate key statistical measures like **mean**, **standard deviation**, and **quartiles** for all numerical variables in your data frame. \n",
    "* Use the `value_counts` function to summarize data into different categories for categorical data. \n",
    "* Box plots offer a more visual representation of the data's distribution for numerical data, indicating features like the **median**, **quartiles**, and **outliers**.\n",
    "* Scatter plots are excellent for exploring relationships between continuous variables, like *engine size* and *price*, in a car data set.\n",
    "* Use Pandas' `groupby` method to explore relationships between categorical variables.\n",
    "* Use pivot tables and heat maps for better data visualizations.\n",
    "* Correlation between variables is a statistical measure that indicates how the changes in one variable might be associated with changes in another variable.\n",
    "* When exploring correlation, use scatter plots combined with a regression line to visualize relationships between variables.\n",
    "* Visualization functions like `regplot`, from the seaborn library, are especially useful for exploring correlation.\n",
    "* The Pearson correlation, a key method for assessing the correlation between continuous numerical variables, provides two critical values — the coefficient, which indicates the strength and direction of the correlation, and the P-value, which assesses the certainty of the correlation.\n",
    "* A correlation coefficient close to 1 or -1 indicates a strong positive or negative correlation, respectively, while one close to zero suggests no correlation.\n",
    "* For P-values, values less than .001 indicate strong certainty in the correlation, while larger values indicate less certainty. Both the coefficient and P-value are important for confirming a strong correlation.\n",
    "* Heatmaps provide a comprehensive visual summary of the strength and direction of correlations among multiple variables.\n",
    "\n",
    "\n",
    "# Model Development\n",
    "\n",
    "A **model** is a amthematical equation used to predict one value given one or more values.\n",
    "\n",
    "## Simple Linear Regression\n",
    "Let *y* be the **target/dependent variable** and *x* the **predictor/independent variable**, the equation of the model is: $$y = b_0 + b_{1}x$$\n",
    "\n",
    "where\n",
    "* $b_0$: is the **intercept**\n",
    "* $b_1$: is the **slope**\n",
    "\n",
    "Steps to follow to perform a simple linear regression in Python include:\n",
    "\n",
    "1. Import `linear_model` from scikit-learn (see cell 2)\n",
    "1. Create a Linear Regression Object using the constructor\n",
    "1. Define the predictor variable and the target variable\n",
    "1. Use `lm.fit(X,Y` to fit he model, i.e. find the parameters $b_0$ and $b_1$\n",
    "1. We can obtain a prediction"
   ]
  },
  {
   "cell_type": "code",
   "execution_count": 39,
   "id": "f9b73c95-2983-436d-995c-0af4b3256215",
   "metadata": {},
   "outputs": [
    {
     "data": {
      "text/plain": [
       "(0.0, 48159.60537295477)"
      ]
     },
     "execution_count": 39,
     "metadata": {},
     "output_type": "execute_result"
    },
    {
     "data": {
      "image/png": "[encoded data removed]",
      "text/plain": [
       "<Figure size 432x288 with 1 Axes>"
      ]
     },
     "metadata": {
      "needs_background": "light"
     },
     "output_type": "display_data"
    }
   ],
   "source": [
    "sns.regplot(x = df['highway-mpg'], y = df['price'])\n",
    "plt.ylim(0,)"
   ]
  },
  {
   "cell_type": "code",
   "execution_count": 40,
   "id": "0a53d71f-6adf-4ee0-88c1-38eab9a6f4f9",
   "metadata": {},
   "outputs": [
    {
     "data": {
      "text/plain": [
       "LinearRegression()"
      ]
     },
     "execution_count": 40,
     "metadata": {},
     "output_type": "execute_result"
    }
   ],
   "source": [
    "Reg = df[['highway-mpg', 'price']]\n",
    "# Reg.dropna(axis = 0)\n",
    "Reg = Reg[np.isfinite(Reg).all(1)]\n",
    "\n",
    "Reg.head()\n",
    "\n",
    "lm = LinearRegression()\n",
    "X = Reg[['highway-mpg']] # X must be a 2D array\n",
    "Y = Reg['price']\n",
    "lm.fit(X, Y)"
   ]
  },
  {
   "cell_type": "code",
   "execution_count": 41,
   "id": "c0b15780-84a7-4028-98d7-e72e255cbbd7",
   "metadata": {},
   "outputs": [
    {
     "data": {
      "text/plain": [
       "array([16236.50464347, 16236.50464347, 17058.23802179, 13771.3045085 ,\n",
       "       20345.17153508, 17879.97140011, 17879.97140011, 17879.97140011,\n",
       "       21988.63829172, 14593.03788682, 14593.03788682, 15414.77126514,\n",
       "       15414.77126514, 17879.97140011, 20345.17153508, 20345.17153508,\n",
       "       21988.63829172, -5128.5631929 ,  3088.77059031,  3088.77059031,\n",
       "        4732.23734696,  7197.43748192, 13771.3045085 ,  7197.43748192,\n",
       "        7197.43748192,  7197.43748192, 13771.3045085 , 13771.3045085 ,\n",
       "       18701.70477843, -5950.29657123,  7197.43748192,  3910.50396864,\n",
       "       10484.37099521, 10484.37099521, 10484.37099521, 10484.37099521,\n",
       "       11306.10437353, 11306.10437353, 11306.10437353, 11306.10437353,\n",
       "       15414.77126514, 12949.57113018, 14593.03788682, 14593.03788682,\n",
       "       22810.37167004, 22810.37167004, 24453.83842668, 12949.57113018,\n",
       "        7197.43748192,  7197.43748192,  7197.43748192,  7197.43748192,\n",
       "       19523.43815675, 19523.43815675, 19523.43815675, 19523.43815675,\n",
       "       12127.83775186, 12127.83775186, 12127.83775186, 12127.83775186,\n",
       "        3910.50396864, 12127.83775186, 16236.50464347,  6375.7041036 ,\n",
       "       17879.97140011, 17879.97140011, 17879.97140011, 17879.97140011,\n",
       "       23632.10504836, 23632.10504836, 25275.57180501, 25275.57180501,\n",
       "       18701.70477843,  4732.23734696,  7197.43748192,  7197.43748192,\n",
       "       13771.3045085 , 13771.3045085 , 12127.83775186, 18701.70477843,\n",
       "       18701.70477843, 18701.70477843, 12127.83775186, 12127.83775186,\n",
       "       13771.3045085 , 13771.3045085 ,  8019.17086025, -2663.36305794,\n",
       "        8019.17086025,  8019.17086025,  8019.17086025,  8019.17086025,\n",
       "        8019.17086025,  8019.17086025,  8019.17086025,  8019.17086025,\n",
       "       10484.37099521, 10484.37099521, 20345.17153508, 20345.17153508,\n",
       "       17879.97140011, 17879.97140011, 19523.43815675, 17879.97140011,\n",
       "       18701.70477843, 11306.10437353, 18701.70477843, 17879.97140011,\n",
       "       18701.70477843, 11306.10437353, 18701.70477843, 17879.97140011,\n",
       "       18701.70477843, 11306.10437353, 18701.70477843,  4732.23734696,\n",
       "       13771.3045085 ,  7197.43748192,  7197.43748192,  7197.43748192,\n",
       "       13771.3045085 , 18701.70477843, 16236.50464347, 17879.97140011,\n",
       "       17879.97140011, 17879.97140011, 12949.57113018, 12949.57113018,\n",
       "       15414.77126514, 15414.77126514, 15414.77126514, 15414.77126514,\n",
       "       17058.23802179, 17058.23802179,  8840.90423857, 12949.57113018,\n",
       "       12949.57113018,  8019.17086025, 11306.10437353, 12127.83775186,\n",
       "       17879.97140011, 14593.03788682, 12127.83775186, 12949.57113018,\n",
       "       14593.03788682, 19523.43815675,  6375.7041036 ,  7197.43748192,\n",
       "        7197.43748192,  8019.17086025, 12127.83775186, 12127.83775186,\n",
       "        8019.17086025,  8019.17086025,  8840.90423857,  -198.16292297,\n",
       "        -198.16292297, 10484.37099521, 10484.37099521, 10484.37099521,\n",
       "       10484.37099521, 14593.03788682, 14593.03788682, 13771.3045085 ,\n",
       "       13771.3045085 , 13771.3045085 , 13771.3045085 , 13771.3045085 ,\n",
       "       13771.3045085 , 10484.37099521, 11306.10437353, 12127.83775186,\n",
       "       12127.83775186, 12127.83775186, 18701.70477843, 18701.70477843,\n",
       "       18701.70477843, 18701.70477843,   623.57045535, 10484.37099521,\n",
       "         623.57045535, 10484.37099521, 10484.37099521,  3910.50396864,\n",
       "       12127.83775186, 14593.03788682, 14593.03788682, 18701.70477843,\n",
       "        7197.43748192, 12949.57113018, 15414.77126514, 15414.77126514,\n",
       "       15414.77126514, 15414.77126514, 20345.17153508, 20345.17153508,\n",
       "       15414.77126514, 17879.97140011, 19523.43815675, 16236.50464347,\n",
       "       17879.97140011])"
      ]
     },
     "execution_count": 41,
     "metadata": {},
     "output_type": "execute_result"
    }
   ],
   "source": [
    "# View Parameters\n",
    "Yhat = lm.predict(X)\n",
    "Yhat"
   ]
  },
  {
   "cell_type": "code",
   "execution_count": 42,
   "id": "a0f5fe90-2b4e-4df7-86e3-699118316103",
   "metadata": {},
   "outputs": [
    {
     "data": {
      "text/plain": [
       "(38423.3058581574, array([-821.73337832]))"
      ]
     },
     "execution_count": 42,
     "metadata": {},
     "output_type": "execute_result"
    }
   ],
   "source": [
    "# b0 & b1\n",
    "lm.intercept_, lm.coef_"
   ]
  },
  {
   "cell_type": "markdown",
   "id": "3353f4cd-89ea-4324-805b-96edb76bf056",
   "metadata": {},
   "source": [
    "The equation becomes: $$Price = 38423.31 - 821.73\\times Highway\\_mpg$$\n",
    "\n",
    "## Multiple Linear Regression\n",
    "The equation is $$\\hat{Y} = b_0 + b_1X_1 + b_2X_2+b_3X_3 + ... + b_nX_n$$\n",
    "\n",
    "It takes the following steps:\n",
    "\n",
    "1. Extract predictor vairables and store in a variable Z\n",
    "1. Treain the model as before"
   ]
  },
  {
   "cell_type": "code",
   "execution_count": 43,
   "id": "0be92ca3-1686-4db4-8054-72782742b944",
   "metadata": {},
   "outputs": [
    {
     "data": {
      "text/plain": [
       "LinearRegression()"
      ]
     },
     "execution_count": 43,
     "metadata": {},
     "output_type": "execute_result"
    }
   ],
   "source": [
    "df2 = df[['price', 'horsepower', 'curb-weight', 'engine-size', 'highway-mpg']]\n",
    "df3 = df2[np.isfinite(df2).all(1)]\n",
    "\n",
    "z = df3[['horsepower', 'curb-weight', 'engine-size', 'highway-mpg']]\n",
    "Y2 = df3['price']\n",
    "lmm = LinearRegression()\n",
    "\n",
    "lmm.fit(z, Y2)"
   ]
  },
  {
   "cell_type": "code",
   "execution_count": 44,
   "id": "73adb8e6-c7fc-4951-8e5e-fff7f1c54b2f",
   "metadata": {},
   "outputs": [],
   "source": [
    "Yhat2 = lmm.predict(z)"
   ]
  },
  {
   "cell_type": "code",
   "execution_count": 45,
   "id": "93814e52-b8a6-4ab1-9fa1-452010338eab",
   "metadata": {},
   "outputs": [
    {
     "data": {
      "text/plain": [
       "-15700.5739790393"
      ]
     },
     "execution_count": 45,
     "metadata": {},
     "output_type": "execute_result"
    }
   ],
   "source": [
    "lmm.intercept_"
   ]
  },
  {
   "cell_type": "code",
   "execution_count": 46,
   "id": "5e926080-147b-4ed6-9246-983790b88977",
   "metadata": {},
   "outputs": [
    {
     "data": {
      "text/plain": [
       "array([53.27878556,  4.66217408, 82.22948394, 35.5175845 ])"
      ]
     },
     "execution_count": 46,
     "metadata": {},
     "output_type": "execute_result"
    }
   ],
   "source": [
    "lmm.coef_"
   ]
  },
  {
   "cell_type": "markdown",
   "id": "33c597c5-300f-4f32-8c59-c04ce3b87f8f",
   "metadata": {},
   "source": [
    "The equation becomes $$\\hat{Price} = -15700.57 + 53.28 \\times Horsepower + 4.66 \\times curb\\_weight + 82.23 \\times engine\\_size + 35.52 \\times highway\\_mpg$$\n",
    "\n",
    "## Model Evaluation using Visualization\n",
    "\n",
    "Here, we have:\n",
    "1. Regression plot (Seaborn)\n",
    "2. The residual plot\n",
    "3. Distribution plot (distplot is deprecated, use displot or kdeplot)"
   ]
  },
  {
   "cell_type": "code",
   "execution_count": 47,
   "id": "cc34ccca-3493-4e5c-8365-b6844723259f",
   "metadata": {},
   "outputs": [
    {
     "data": {
      "text/plain": [
       "<Axes: xlabel='highway-mpg', ylabel='price'>"
      ]
     },
     "execution_count": 47,
     "metadata": {},
     "output_type": "execute_result"
    },
    {
     "data": {
      "image/png": "[encoded data removed]",
      "text/plain": [
       "<Figure size 432x288 with 1 Axes>"
      ]
     },
     "metadata": {
      "needs_background": "light"
     },
     "output_type": "display_data"
    }
   ],
   "source": [
    "sns.residplot(x = X, y = Y)"
   ]
  },
  {
   "cell_type": "code",
   "execution_count": 48,
   "id": "325c8198-39f2-44b7-935d-92a1119cb3d5",
   "metadata": {},
   "outputs": [
    {
     "data": {
      "text/plain": [
       "<Axes: xlabel='price', ylabel='Density'>"
      ]
     },
     "execution_count": 48,
     "metadata": {},
     "output_type": "execute_result"
    },
    {
     "data": {
      "image/png": "[encoded data removed]",
      "text/plain": [
       "<Figure size 432x288 with 1 Axes>"
      ]
     },
     "metadata": {
      "needs_background": "light"
     },
     "output_type": "display_data"
    }
   ],
   "source": [
    "ax1 = sns.kdeplot(Reg['price'], color = \"r\", label = \"Actual Values\")\n",
    "sns.kdeplot(Yhat, color = \"b\", label = \"Fitted Values\", ax = ax1)"
   ]
  },
  {
   "cell_type": "code",
   "execution_count": 49,
   "id": "cad7e15f-7ba9-48bd-acda-ac19f4fd51fa",
   "metadata": {},
   "outputs": [
    {
     "data": {
      "text/plain": [
       "<Axes: xlabel='price', ylabel='Density'>"
      ]
     },
     "execution_count": 49,
     "metadata": {},
     "output_type": "execute_result"
    },
    {
     "data": {
      "image/png": "[encoded data removed]",
      "text/plain": [
       "<Figure size 432x288 with 1 Axes>"
      ]
     },
     "metadata": {
      "needs_background": "light"
     },
     "output_type": "display_data"
    }
   ],
   "source": [
    "ax1 = sns.kdeplot(df3['price'], color = \"r\", label = \"Actual Values\")\n",
    "sns.kdeplot(Yhat2, color = \"b\", label = \"Fitted Values\", ax = ax1)"
   ]
  },
  {
   "cell_type": "markdown",
   "id": "78d38f11-6ff4-4a99-872c-a07ab1c32b8a",
   "metadata": {},
   "source": [
    "## Polynomial Regression and Pipelines\n",
    "When the linear regression is not the best fit for our data, a polynomial regression can be considered. Here, the data is transformed into a polynomial and the linear regression is used to fit the parameters.\n",
    "\n",
    "Pipelines are ways to simplify the code.\n",
    "\n",
    "Polynomial reg is a case of general linear reg model, and is best to describe curvilinear relationships. The model can be:\n",
    "* Quadratic - 2nd order polynomial regression where the equation is: $$\\hat{Y} = b_0 + b_1X_1 + b_2(X_1)^2$$\n",
    "* Cubic - 3rd order polynomial regression where the equation is: $$\\hat{Y} = b_0 + b_1X_1 + b_2(X_1)^2 + b_3(X_1)^3$$\n",
    "* Higher order polynomial regression where the equation is: $$\\hat{Y} = b_0 + b_1X_1 + b_2(X_1)^2 + b_3(X_1)^3 + ...$$\n",
    "\n",
    "### Example in Python\n",
    "#### Polynomial Regression with one dimension\n",
    "Calculate Polynomial of 3rd order\n"
   ]
  },
  {
   "cell_type": "code",
   "execution_count": 50,
   "id": "38ee35ff-4b7d-43e4-8eea-834e0e2a83c2",
   "metadata": {},
   "outputs": [
    {
     "data": {
      "text/plain": [
       "poly1d([ 7.40516833e-25, -2.75757396e-20,  1.00000000e+00,  0.00000000e+00])"
      ]
     },
     "execution_count": 50,
     "metadata": {},
     "output_type": "execute_result"
    }
   ],
   "source": [
    "f = np.polyfit(Reg['price'], Y, 3)\n",
    "p = np.poly1d(f)\n",
    "p"
   ]
  },
  {
   "cell_type": "markdown",
   "id": "e62597f3-c97c-4959-9633-6086b274eb44",
   "metadata": {},
   "source": [
    "#### Polynomial Regression with one dimension Calculate Polynomial of 3rd order\n",
    "`np` cannot deal with this. `preprocessing` lib in scikit-learn will be used\n",
    "Here, the equation is in the format $$\\hat{Y} = b_0 + b_1X_1 + b_2X_2 + b_3X_1X_2 + b_4(X_1)^2 + b_5(X_2)^2 + ...$$"
   ]
  },
  {
   "cell_type": "code",
   "execution_count": 51,
   "id": "e5d957df-2805-4fc7-b848-0c005e2888fe",
   "metadata": {},
   "outputs": [],
   "source": [
    "Scale = StandardScaler()\n",
    "Scale.fit(df3[['horsepower', 'curb-weight']])\n",
    "x_scale = Scale.transform(df3[['horsepower', 'curb-weight']])"
   ]
  },
  {
   "cell_type": "markdown",
   "id": "3c7249d9-8b9b-4e6d-84bb-94eabf0d5a10",
   "metadata": {},
   "source": [
    "### Pipelines\n",
    "For pipelines, \n",
    "1. we'll import all the modules we need (`PolynomialFeature`, `LinearRegression`, and `StandardScaler`) and the library `Pipeline`\n",
    "2. Create a list of tuples where the 1st element is the name of the estimator, and the 2nd contains model constructor.\n",
    "3. Put the list in the pipeline constructor to create a pipeline object\n",
    "4. The pipeline can be trained"
   ]
  },
  {
   "cell_type": "code",
   "execution_count": 52,
   "id": "542a0ad0-a08b-4a62-b46b-0a5f1e9f8a4d",
   "metadata": {},
   "outputs": [],
   "source": [
    "Input = [('polynomial', PolynomialFeatures(degree = 2)),\n",
    "         ('scale', StandardScaler()),\n",
    "         ('Model', LinearRegression())]\n",
    "\n",
    "pipe = Pipeline(Input)\n",
    "\n",
    "pipe.fit(z, Y2)\n",
    "\n",
    "Yhat3 = pipe.predict(z)"
   ]
  },
  {
   "cell_type": "code",
   "execution_count": 53,
   "id": "02dbcf00-4704-441f-a06a-d642e70fa313",
   "metadata": {},
   "outputs": [
    {
     "data": {
      "text/plain": [
       "<Axes: xlabel='price', ylabel='Density'>"
      ]
     },
     "execution_count": 53,
     "metadata": {},
     "output_type": "execute_result"
    },
    {
     "data": {
      "image/png": "[encoded data removed]",
      "text/plain": [
       "<Figure size 432x288 with 1 Axes>"
      ]
     },
     "metadata": {
      "needs_background": "light"
     },
     "output_type": "display_data"
    }
   ],
   "source": [
    "ax1 = sns.kdeplot(df3['price'], color = \"r\", label = \"Actual Values\")\n",
    "sns.kdeplot(Yhat3, color = \"b\", label = \"Fitted Values\", ax = ax1)"
   ]
  },
  {
   "cell_type": "markdown",
   "id": "ce0b555c-6d1e-4a37-a09a-3e55cf0c126f",
   "metadata": {},
   "source": [
    "## Measures for In-Sample Evaluation\n",
    "* A way to numerically determine how good the model fits on data\n",
    "* Two important measures to determine the fit of a model:\n",
    "    - Mean Squared Erro (MSE)\n",
    "    - R-Squared ($R^2$) AKA the coefficient of determination (score)\n",
    "    $$R^2 = 1 - \\frac{MSE\\ of\\ Reg\\ Line}{MSE\\ of\\ the\\ AVG\\ of\\ the\\ Data}$$\n",
    "    \n",
    "To measure the MSE in python, the module `mean_squared_error` from `sklearn.metrics` is used.\n",
    "\n",
    "$R^2$ is generally between 0 and 1. If it's less than 0, it's a sign of overfitting. For interpretation of $R^2$, see **Falk & Miller (1992)**."
   ]
  },
  {
   "cell_type": "code",
   "execution_count": 56,
   "id": "3adb4d79-46fd-46a6-a423-f84a1098b756",
   "metadata": {},
   "outputs": [
    {
     "data": {
      "text/plain": [
       "9697923.625397738"
      ]
     },
     "execution_count": 56,
     "metadata": {},
     "output_type": "execute_result"
    }
   ],
   "source": [
    "mean_squared_error(df3['price'], Yhat3)"
   ]
  },
  {
   "cell_type": "code",
   "execution_count": 57,
   "id": "1730ff84-d7a0-4638-8876-6c9dd3efc4b0",
   "metadata": {},
   "outputs": [
    {
     "data": {
      "text/plain": [
       "0.4965911884339176"
      ]
     },
     "execution_count": 57,
     "metadata": {},
     "output_type": "execute_result"
    }
   ],
   "source": [
    "lm.score(X, Y)"
   ]
  },
  {
   "cell_type": "markdown",
   "id": "13cd93d3-4d28-4bd2-b79d-ead97a7c3055",
   "metadata": {},
   "source": [
    "## Prediction and Decison Making\n",
    "To determine the final bast fit, we look at a combination of:\n",
    "* Do the predicted values make sense?\n",
    "* Viz\n",
    "* Numerical measures for evaluation\n",
    "* Comparing models\n",
    "\n",
    "Note that the `seq()` dunction is R is implement in Python with `np.arange(from, to, by)`\n",
    "\n",
    "### Comparing MLR and SLR\n",
    "1. A lower MSE does not always imply a better fit.\n",
    "1. MSE for an MLR model will always be smaller than the MSE for a SLR model since the errors of the adta will decrease when more variables are included in the model.\n",
    "1. Polynomial regression will also have a smaller MSE than regular regression.\n",
    "1. A similar inverse relationship holds for $R^2$.\n",
    "\n",
    "\n",
    "## Lesson Summary\n",
    "At this point in the course, we know: \n",
    "* Linear regression refers to using one independent variable to make a prediction.\n",
    "* You can use multiple linear regression to explain the relationship between one continuous target y variable and two or more predictor x variables.\n",
    "* Simple linear regression, or SLR, is a method used to understand the relationship between two variables, the predictor independent variable x and the target dependent variable y.\n",
    "* Use the `regplot` and `residplot` functions in the `Seaborn library` to create regression and residual plots, which help you identify the strength, direction, and linearity of the relationship between your independent and dependent variables.\n",
    "* When using residual plots for model evaluation, residuals should ideally have zero mean, appear evenly distributed around the x-axis, and have consistent variance. If these conditions are not met, consider adjusting your model.\n",
    "* Use distribution plots for models with multiple features: Learn to construct distribution plots to compare predicted and actual values, particularly when your model includes more than one independent variable. Know that this can offer deeper insights into the accuracy of your model across different ranges of values.\n",
    "* The order of the polynomials affects the fit of the model to your data. Apply Python's `polyfit` function to develop polynomial regression models that suit your specific dataset.\n",
    "* To prepare your data for more accurate modeling, use feature transformation techniques, particularly using the `preprocessing` library in `scikit-learn`, transform your data using `polynomial features`, and use the modules like `StandardScaler` to normalize the data.\n",
    "* Pipelines allow you to simplify how you perform transformations and predictions sequentially, and you can use pipelines in `scikit-learn` to streamline your modeling process.\n",
    "* You can construct and train a pipeline to automate tasks such as normalization, polynomial transformation, and making predictions.\n",
    "* To determine the fit of your model, you can perform sample evaluations by using the **Mean Square Error (MSE)**, using Python’s `mean_squared_error` function from `scikit-learn`, and using the score method to obtain the `R-squared` value.\n",
    "* A model with a high `R-squared` value close to 1 and a low `MSE` is generally a good fit, whereas a model with a low `R-squared` and a high `MSE` may not be useful.\n",
    "* Be alert to situations where your `R-squared` value might be negative, which can indicate **overfitting**. \n",
    "* When evaluating models, use visualization and numerical measures and compare different models.\n",
    "* The mean square error is perhaps the most intuitive numerical measure for determining whether a model is good.\n",
    "* A distribution plot is a suitable method for multiple linear regression.\n",
    "* An acceptable `r-squared` value depends on what you are studying and your use case.\n",
    "* To evaluate your model’s fit, apply visualization, methods like regression and residual plots, and numerical measures such as the model's coefficients for sensibility: \n",
    "* Use Mean Square Error (`MSE`) to measure the average of the squares of the errors between actual and predicted values and examine `R-squared` to understand the proportion of the variance in the dependent variable that is predictable from the independent variables.\n",
    "* When analyzing residual plots, residuals should be randomly distributed around zero for a good model. In contrast, a residual plot curve or inaccuracies in certain ranges suggest non-linear behavior or the need for more data.\n",
    "\n",
    "<h1><b>Model Evaluation and Refinement</b></h1>\n",
    "\n",
    "* In-sample evaluation tells how well the model will fit the data used to train it. It does not tell how well the trained model can be used to predict new data\n",
    "* The solution is to split the data into two parts: I-sample data or training data (the larger part ~70%) and out-of-sample evaluation or test set/testing data (Smaller part ~30%)\n",
    "* When the testing is completed, all the data should be used to train the model to get the best performance.\n",
    "\n",
    "To carry-out this technique, the function `train_test_split` from `sklearn.model_selection` is used.\n",
    "\n",
    "* Generalization error is a measure of how well the data does at predicting previously unseen data\n",
    "* The error we obtain using our testing data is an approximation of this error"
   ]
  },
  {
   "cell_type": "code",
   "execution_count": 60,
   "id": "f1be333e-f624-49d0-84f6-3428e74ebf64",
   "metadata": {},
   "outputs": [],
   "source": [
    "x_train, x_test, y_train, y_test = train_test_split(z, Y2, test_size = .3, random_state = 0)"
   ]
  },
  {
   "cell_type": "markdown",
   "id": "7f2d2aa3-9ec9-4459-b7b8-01908a556d79",
   "metadata": {},
   "source": [
    "<h2><b>Cross Validation</b></h2>\n",
    "* One of the most common out-of-sample evaluation metrics\n",
    "* More effective use of data (each observation is used for both training and testing)\n",
    "\n",
    "An evaluation matrics that can be used is $R^2$, calculated using the function `cross_val_score()` from `sklearn.model_selection` which perform multiple our-of-sample validation"
   ]
  },
  {
   "cell_type": "code",
   "execution_count": 68,
   "id": "393edcac-9a19-439f-ad74-ff075e3a4762",
   "metadata": {},
   "outputs": [
    {
     "name": "stdout",
     "output_type": "stream",
     "text": [
      "[0.78952607 0.74392426 0.54069997]\n"
     ]
    },
    {
     "data": {
      "text/plain": [
       "(None, 0.6913834309135737)"
      ]
     },
     "execution_count": 68,
     "metadata": {},
     "output_type": "execute_result"
    }
   ],
   "source": [
    "# cv sets the number of partitions\n",
    "scores = cross_val_score(lmm, z, Y2, cv = 3)\n",
    "print(scores), np.mean(scores)"
   ]
  },
  {
   "cell_type": "markdown",
   "id": "293b67a5-3c9b-4365-afbb-cdc54cc61e6c",
   "metadata": {},
   "source": [
    "The function `cross_val_predict()` returns the prediction that was returned for each element when it was in the test set"
   ]
  },
  {
   "cell_type": "code",
   "execution_count": 73,
   "id": "fdc54a42-41d6-424d-8093-e0ba82537fbc",
   "metadata": {
    "collapsed": true,
    "jupyter": {
     "outputs_hidden": true
    },
    "tags": []
   },
   "outputs": [
    {
     "name": "stdout",
     "output_type": "stream",
     "text": [
      "[12827.47262967 12827.47262967 18183.75643728  9637.90934399\n",
      " 14204.7597532  13061.68705776 14357.97461852 14781.09518731\n",
      " 15644.78176848  9601.85897259  9601.85897259 17694.4938675\n",
      " 17906.05415189 18709.31377517 26803.44290734 27380.42550115\n",
      " 27653.0842906   1039.50702321  5650.17504454  5784.80431643\n",
      "  5355.32562495  5043.08556686  7647.3107435   5393.12167377\n",
      "  5477.74578753  5477.74578753  7889.6434329  11141.2766073\n",
      " 17936.23281055  5825.22380868  5417.12020417  3745.1907217\n",
      "  5466.23275239  5527.7775624   5735.49129617  5789.34300493\n",
      "  8914.46697926  9118.3341624   9176.03242179  9437.59786431\n",
      "  9982.79559151  9586.23770097  8616.99763377 11573.40550275\n",
      " 34709.84504112 34709.84504112 45449.70707389  4476.25618732\n",
      "  5243.28182912  5262.51458225  5416.37660727  5435.60936039\n",
      "  4820.27680143  4820.27680143  4839.50955456  7965.15554493\n",
      " 10583.689088   10679.85285363 10583.689088   10679.85285363\n",
      " 10903.76439677 10737.55111301 14800.263448   13252.16634489\n",
      " 22622.81144276 23526.75083973 22545.88043026 26255.81884087\n",
      " 29091.33080849 28635.69167166 34424.68923494 32748.17295929\n",
      " 20123.91069187  5687.21722717  5755.20112474  6252.26200128\n",
      "  8935.82215574 11928.52628479 10716.61190988 18568.11326174\n",
      " 19297.13588067 19338.55762038 11023.13278375 11354.50670145\n",
      " 12201.90976689 12201.90976689  5480.1004966   6698.14774832\n",
      "  5720.34658693  5886.03354578  6598.48746882  5993.73006903\n",
      "  6631.62486059  6159.41702788  6706.18399208  6465.93790175\n",
      " 11157.85641006 10975.60075532 21888.28413264 23553.43806907\n",
      " 21745.7411036  22235.14900131 24691.61224714 22798.48466139\n",
      " 16432.39874818 19392.68101365 18172.11181608 20929.8430204\n",
      " 16788.46786743 19848.32015049 18528.18093533 21385.48215723\n",
      " 16888.03788501 19848.32015049 20087.69408958  5615.26127402\n",
      "  8794.98824071  5873.78517426  6056.04082899  8017.30292597\n",
      " 12333.199168   18443.8480426  17980.42337338 22433.1885082\n",
      " 22433.1885082  22797.69981766 14313.19341583 14619.7142897\n",
      " 14719.126465   15141.62821007 17946.82328087 18269.91285062\n",
      "  6764.74413235  8328.43212984  8821.8686125   9192.35878491\n",
      "  9252.37481088 10602.70595753  9804.16378515 12291.4281934\n",
      "  9632.31621601 11044.32692299 10073.10541428 12679.5701073\n",
      "  5973.2984715   6168.20119563  6065.40192841  7123.81849719\n",
      "  7008.6598853  10380.47585011  7321.27375443  7436.40893371\n",
      "  8207.23723521  8551.04953652  7687.28601094  7396.0975614\n",
      "  7470.1130338   7589.36018378  7733.27915788 10504.60027592\n",
      " 10648.51925003 15968.59123816 15952.14335541 16013.82291574\n",
      " 16540.15516391 16684.07413802 17757.29848779 11660.56327326\n",
      " 10039.87844519 11959.90536636 11959.90536636 12140.83207667\n",
      " 22549.6627508  22714.14157835 22868.35520461 22107.46691908\n",
      "  7111.22987166  9637.26848943  7123.56578372  9649.6044015\n",
      "  9908.65855489  8244.42312603 10904.93550345  9984.6918546\n",
      "  9848.99682187 15053.08240612  9188.51285009 11190.33692377\n",
      " 16886.70395605 17388.36438008 16981.27928189 17421.26014559\n",
      " 19377.78643422 19838.32715136 17051.1827836  20287.97657631\n",
      " 21114.28335576 17936.98962738 17409.7325681 ]\n"
     ]
    }
   ],
   "source": [
    "Yhat4 = cross_val_predict(lmm, z, Y2, cv = 3)\n",
    "print(Yhat4)"
   ]
  },
  {
   "cell_type": "markdown",
   "id": "7eb243ad-3ce0-4e59-84bd-c4a9eba49852",
   "metadata": {},
   "source": [
    "## Overfitting, Underfitting, and Model Selection\n",
    "**Underfitting** is when the model is too simple to fit the data like in the figure below\n",
    "\n",
    "![Underfitting](Illustration/underfit.png)\n",
    "\n",
    "On the other hand, **Overfitting** is when the model is too flexible and fits the noise rather than the function.\n",
    "\n",
    "![Underfitting](Illustration/overfit.png)\n",
    "\n",
    "$R^2$ can be used to determine which order of polynomial regression would fit the data better."
   ]
  },
  {
   "cell_type": "code",
   "execution_count": 75,
   "id": "9e5f8103-a510-4489-bb54-0c4bc69fb460",
   "metadata": {},
   "outputs": [],
   "source": [
    "Rsqu_test = []\n",
    "order = [1,2,3,4]\n",
    "for n in order:\n",
    "    pr = PolynomialFeatures(degree = n)\n",
    "    x_train_pr = pr.fit_transform(x_train[['horsepower']])\n",
    "    x_test_pr = pr.fit_transform(x_test[['horsepower']])\n",
    "    \n",
    "    lmm.fit(x_train_pr, y_train)\n",
    "    \n",
    "    Rsqu_test.append(lmm.score(x_test_pr, y_test))"
   ]
  },
  {
   "cell_type": "code",
   "execution_count": 77,
   "id": "e500278e-990b-46a9-bc00-5c624cc7fe01",
   "metadata": {},
   "outputs": [
    {
     "name": "stdout",
     "output_type": "stream",
     "text": [
      "[0.6744455628629881, 0.6764473389271954, 0.6812379920245005, 0.6862312998249094]\n"
     ]
    }
   ],
   "source": [
    "print(Rsqu_test)"
   ]
  },
  {
   "cell_type": "markdown",
   "id": "4a5e4f1b-6b7c-4383-ade8-30eb78229536",
   "metadata": {},
   "source": [
    "# Introduction to Ridge Regression\n",
    "For models with multiple independent features and ones with polynomial feature extrapolation, it is common to have colinear combinations of features. Left unchecked, this multicollinearity of features can lead the model to overfit the training data. To control this, the feature sets are typically regularized using hyperparameters.\n",
    "\n",
    "Ridge regression is the process of regularizing the feature set using the hyperparameter alpha. The upcoming video shows how Ridge regression can be utilized to regularize and reduce standard errors and avoid over-fitting while using a regression model.\n",
    "\n",
    "A low value of alpha can lead to overfitting, while a high aplha will lead to underfitting. To select an optimal alpha, we can use cross validation. The module `Ridge()` from `sklern.linear_model` is necessary."
   ]
  },
  {
   "cell_type": "code",
   "execution_count": 81,
   "id": "43bedab6-302e-4799-abd0-3bdc665e44b0",
   "metadata": {},
   "outputs": [],
   "source": [
    "RidgeModel = Ridge(alpha = .1)\n",
    "RidgeModel.fit(z, Y2)\n",
    "Yhat4 = RidgeModel.predict(z)"
   ]
  },
  {
   "cell_type": "code",
   "execution_count": 82,
   "id": "21f7f8b1-4706-48c9-8764-e8fca1b73cc6",
   "metadata": {},
   "outputs": [
    {
     "data": {
      "text/plain": [
       "array([13741.40310989, 13741.40310989, 19088.01131102, 10657.90694623,\n",
       "       15557.0725999 , 13919.32085811, 15490.4708376 , 16003.30910983,\n",
       "       17628.34537646, 10757.28853225, 10757.28853225, 17860.77913969,\n",
       "       18117.1982758 , 19362.67859229, 27022.33155784, 27721.65647453,\n",
       "       28233.39533459,   692.53465127,  5693.7559333 ,  5856.93174719,\n",
       "        5525.49118555,  5418.94332978,  8778.98963605,  5843.2004459 ,\n",
       "        5945.76810035,  5945.76810035,  9072.70610106, 11904.09921324,\n",
       "       18810.44415509,  4858.93862073,  5743.88758282,  4048.42936172,\n",
       "        6165.94587458,  6240.54053236,  6492.29750236,  6557.56782792,\n",
       "        9523.34812425,  9770.44292815,  9840.37541982, 10157.40271538,\n",
       "       11212.58322501, 10463.95992159,  9508.16389776, 12656.22296823,\n",
       "       34522.92895667, 34522.92895667, 44084.65093161,  5317.83150031,\n",
       "        5613.0648249 ,  5636.37565545,  5822.8622999 ,  5846.17313046,\n",
       "        7349.539008  ,  7349.539008  ,  7372.84983855, 10542.76601988,\n",
       "       11062.69184816, 11179.24600095, 11062.69184816, 11179.24600095,\n",
       "       10622.68524065, 11249.17849261, 15611.98975249, 13127.29688133,\n",
       "       23176.1928401 , 24271.80187624, 23082.94951787, 24365.04519846,\n",
       "       29875.18830046, 29618.76916434, 38180.16565334, 36988.74688897,\n",
       "       19554.68410674,  5885.76117912,  5900.42964224,  6180.15960891,\n",
       "        8858.24645994, 11639.8881692 , 11010.06273207, 18913.01180953,\n",
       "       19323.28242732, 19346.59325788, 11182.56287818, 11369.04952263,\n",
       "       11793.73965087, 11793.73965087,  6072.9206845 ,  6878.8621396 ,\n",
       "        6208.12350172,  6301.36682395,  6702.31310951,  6361.97498339,\n",
       "        6720.96177396,  6455.21830562,  6762.92126896,  6627.71845173,\n",
       "       11377.49424712, 11274.92659267, 22492.15525446, 23429.25064282,\n",
       "       22435.52729634, 22913.03982805, 25290.17874218, 23230.06712361,\n",
       "       14267.20234129, 17936.83640453, 15246.25722465, 18738.99349305,\n",
       "       14417.06430129, 18193.25554065, 15396.11918465, 18995.41262917,\n",
       "       14523.62147741, 18193.25554065, 18328.79019452,  5721.30216222,\n",
       "        8778.98963605,  5843.2004459 ,  5945.76810035,  7545.3617224 ,\n",
       "       11904.09921324, 18843.07931786, 18245.43581083, 25017.53475168,\n",
       "       25017.53475168, 25222.67006057, 13496.41316996, 13668.91331607,\n",
       "       13724.85930941, 13962.62978108, 16788.63558581, 16970.46006415,\n",
       "        6788.01347648,  8054.42428982,  8613.88422317,  8863.58144669,\n",
       "        8931.315114  , 10234.46713549,  9556.30989029, 11826.22351565,\n",
       "        9362.0157732 , 10735.10028635,  9861.54951189, 12265.83105967,\n",
       "        5807.42287636,  6028.32606055,  5911.77190777,  7111.72997533,\n",
       "        6980.77187682, 10803.74808803,  7103.56467436,  7234.10532548,\n",
       "        8213.36281655,  8604.03828772,  7519.33235305,  7188.16562915,\n",
       "        7272.08461915,  7407.28743638,  7570.46325027,  9914.97632197,\n",
       "       10078.15213587, 15392.71871225, 15374.07004781, 15444.00253948,\n",
       "       16040.75980171, 16203.93561561, 17420.76097064, 11284.88465593,\n",
       "        9968.29501061, 11624.12336987, 11624.12336987, 11829.25867877,\n",
       "       21665.60159913, 21852.08824358, 22121.84440607, 21392.79264381,\n",
       "        7221.15404817,  9297.47749467,  7235.1405465 ,  9311.463993  ,\n",
       "        9605.18045801,  8201.95328389, 10449.88152785,  9596.08815035,\n",
       "        9442.23666868, 14601.77848732,  9272.05266511, 11001.17220645,\n",
       "       16538.30788342, 17107.09214899, 16645.53770398, 17144.38947788,\n",
       "       18598.12789863, 19120.29050309, 16724.79452787, 19521.29183566,\n",
       "       20523.86076648, 17827.44192473, 17131.08494433])"
      ]
     },
     "execution_count": 82,
     "metadata": {},
     "output_type": "execute_result"
    }
   ],
   "source": [
    "Yhat4"
   ]
  },
  {
   "cell_type": "markdown",
   "id": "076a69c4-4e0c-442a-a4f5-327606a642bd",
   "metadata": {},
   "source": [
    "## Grid Search\n",
    "Grid Search allows to scan through multiple free parameters with few lines of code.\n",
    "\n",
    "Alpha in Ridge regression is called a hyperparameter\n",
    "\n",
    "scikit-learn has a means to automatically iterating ove these hyperparameters using cross-validation called Grid Search"
   ]
  },
  {
   "cell_type": "code",
   "execution_count": 85,
   "id": "47220fb4-a1d0-4890-911f-1d262fdfa7a8",
   "metadata": {},
   "outputs": [
    {
     "data": {
      "text/plain": [
       "Ridge(alpha=10000)"
      ]
     },
     "execution_count": 85,
     "metadata": {},
     "output_type": "execute_result"
    }
   ],
   "source": [
    "parameters1 = [{'alpha': [.001,.1,1,10,100,1000,10000,100000,1000000]}]\n",
    "\n",
    "RR = Ridge()\n",
    "\n",
    "Grid1 = GridSearchCV(RR, parameters1, cv = 4)\n",
    "\n",
    "Grid1.fit(z, Y2)\n",
    "\n",
    "Grid1.best_estimator_"
   ]
  },
  {
   "cell_type": "code",
   "execution_count": 88,
   "id": "3b3c62b3-adf4-4296-bf57-b7feeb895d26",
   "metadata": {},
   "outputs": [
    {
     "data": {
      "text/plain": [
       "array([0.64703019, 0.64703064, 0.64703477, 0.6470758 , 0.64746007,\n",
       "       0.64975482, 0.65246626, 0.64186174, 0.61255388])"
      ]
     },
     "execution_count": 88,
     "metadata": {},
     "output_type": "execute_result"
    }
   ],
   "source": [
    "scores = Grid1.cv_results_\n",
    "scores['mean_test_score']"
   ]
  },
  {
   "cell_type": "markdown",
   "id": "3cba8a7a-fbaa-46d8-a2b1-312762ea2503",
   "metadata": {},
   "source": [
    "## Lesson Summary\n",
    "At this point in the course, we know: \n",
    "* How to split your data using the `train_test_split()` method into training and test sets. You use the training set to train a model, discover possible predictive relationships, and then use the test set to test your model to evaluate its performance.\n",
    "* How to use the generalization error to measure how well your data does at predicting previously unseen data.\n",
    "* How to use cross-validation by splitting the data into folds where you use some of the folds as a training set, which we use to train the model, and the remaining parts are used as a test set, which we use to test the model. You iterate through the folds until you use each partition for training and testing. At the end, you average results as the estimate of out-of-sample error.\n",
    "* How to pick the best polynomial order and problems that arise when selecting the wrong order polynomial by analyzing models that underfit and overfit your data.\n",
    "* Select the best order of a polynomial to fit your data by minimizing the test error using a graph comparing the mean square error to the order of the fitted polynomials.\n",
    "* You should use ridge regression when there is a strong relationship among the independent variables.  \n",
    "* That ridge regression prevents overfitting.\n",
    "* Ridge regression controls the magnitude of polynomial coefficients by introducing a hyperparameter, alpha. \n",
    "* To determine alpha, you divide your data into training  and validation data. Starting with a small value for alpha, you train the model, make a prediction using the validation data, then calculate the R-squared and store the vaues. You repeat the value for a larger value of alpha. You repeat the process for different alpha values, training the model, and making a prediction. You select the value of alpha that maximizes R-squared.\n",
    "* That grid search allows you to scan through multiple hyperparameters using the `Scikit-learn` library, which iterates over these parameters using cross-validation. Based on the results of the grid search method, you select optimum hyperparameter values.\n",
    "* The `GridSearchCV()` method takes in a dictionary as its argument where the key is the name of the hyperparameter, and the values are the hyperparameter values you wish to iterate over."
   ]
  }
 ],
 "metadata": {
  "kernelspec": {
   "display_name": "Python 3 (ipykernel)",
   "language": "python",
   "name": "python3"
  },
  "language_info": {
   "codemirror_mode": {
    "name": "ipython",
    "version": 3
   },
   "file_extension": ".py",
   "mimetype": "text/x-python",
   "name": "python",
   "nbconvert_exporter": "python",
   "pygments_lexer": "ipython3",
   "version": "3.9.12"
  }
 },
 "nbformat": 4,
 "nbformat_minor": 5
}
